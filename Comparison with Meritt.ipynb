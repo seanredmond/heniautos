{
 "cells": [
  {
   "cell_type": "markdown",
   "metadata": {},
   "source": [
    "# Comparison with Meritt, _The Athenian Year_"
   ]
  },
  {
   "cell_type": "code",
   "execution_count": 1,
   "metadata": {},
   "outputs": [
    {
     "data": {
      "text/plain": [
       "'de422.bsp'"
      ]
     },
     "execution_count": 1,
     "metadata": {},
     "output_type": "execute_result"
    }
   ],
   "source": [
    "import heniautos as ha\n",
    "ha.init_data()"
   ]
  },
  {
   "cell_type": "code",
   "execution_count": 2,
   "metadata": {},
   "outputs": [],
   "source": [
    "meritt_intercalations = list(\"IOOIOIOIOOOIOOIOIOIIOOOOIOOIO\")\n",
    "\n",
    "meritt_hek1 = ((6, 28), (7, 17), (7, 7), (6, 26), (7, 14), (7, 3), (7, 22), (7, 11), (7, 29), (7, 19), (7, 9), \n",
    "               (6, 28), (7, 16), (7, 5), (7, 24), (7, 13), (7, 1), (7, 20), (7, 10), (7, 29), (8, 16), (8, 5), \n",
    "               (7, 25), (7, 14), (7, 3), (7, 22), (7, 11), (6, 30), (7, 18))\n",
    "\n",
    "meritt_len = (384, 355, 354, 384, 354, 384, 354, 384, 355, 355, 354, 384, 354, 354, 384, 354, 384, 355, \n",
    "              384, 384, 354, 354, 354, 355, 384, 354, 354, 384, 355)\n",
    "\n",
    "def month(m):\n",
    "    if m == 6:\n",
    "        return \"Jun\"\n",
    "    if m == 7:\n",
    "        return \"Jul\"\n",
    "    return \"Aug\""
   ]
  },
  {
   "cell_type": "markdown",
   "metadata": {},
   "source": [
    "Meritt (1961) 218 presents a summary of his calculations for the years 433/2-405/4 BCE. Reproduced below are his results for whether the year was intercalated (I) or not (O), the Julian date of Hekatombaiṓn 1 and the length of the year"
   ]
  },
  {
   "cell_type": "code",
   "execution_count": 3,
   "metadata": {},
   "outputs": [
    {
     "name": "stdout",
     "output_type": "stream",
     "text": [
      "Year    | Int? | Hek. 1 | Length\n",
      "--------------------------------\n",
      "433/432 |  I   | Jun-28 |   384\n",
      "432/431 |  O   | Jul-17 |   355\n",
      "431/430 |  O   | Jul-07 |   354\n",
      "--------------------------------\n",
      "430/429 |  I   | Jun-26 |   384\n",
      "429/428 |  O   | Jul-14 |   354\n",
      "428/427 |  I   | Jul-03 |   384\n",
      "427/426 |  O   | Jul-22 |   354\n",
      "426/425 |  I   | Jul-11 |   384\n",
      "--------------------------------\n",
      "425/424 |  O   | Jul-29 |   355\n",
      "424/423 |  O   | Jul-19 |   355\n",
      "423/422 |  O   | Jul-09 |   354\n",
      "422/421 |  I   | Jun-28 |   384\n",
      "421/420 |  O   | Jul-16 |   354\n",
      "--------------------------------\n",
      "420/419 |  O   | Jul-05 |   354\n",
      "419/418 |  I   | Jul-24 |   384\n",
      "418/417 |  O   | Jul-13 |   354\n",
      "417/416 |  I   | Jul-01 |   384\n",
      "416/415 |  O   | Jul-20 |   355\n",
      "--------------------------------\n",
      "415/414 |  I   | Jul-10 |   384\n",
      "414/413 |  I   | Jul-29 |   384\n",
      "413/412 |  O   | Aug-16 |   354\n",
      "412/411 |  O   | Aug-05 |   354\n",
      "411/410 |  O   | Jul-25 |   354\n",
      "--------------------------------\n",
      "410/409 |  O   | Jul-14 |   355\n",
      "409/408 |  I   | Jul-03 |   384\n",
      "408/407 |  O   | Jul-22 |   354\n",
      "407/406 |  O   | Jul-11 |   354\n",
      "406/405 |  I   | Jun-30 |   384\n",
      "--------------------------------\n",
      "405/404 |  O   | Jul-18 |   355\n"
     ]
    }
   ],
   "source": [
    "print(\"Year    | Int? | Hek. 1 | Length\")\n",
    "print(\"-\"*32)\n",
    "for i, year in enumerate(reversed(range(405, 434))):\n",
    "    if not year % 5:\n",
    "        print(\"-\"*32) \n",
    "    print(f\"{year}/{year-1} | {meritt_intercalations[i]:^4} | \"\n",
    "         f\"{month(meritt_hek1[i][0])}-{meritt_hek1[i][1]:02} | {meritt_len[i]:>5}\")"
   ]
  },
  {
   "cell_type": "markdown",
   "metadata": {},
   "source": [
    "How does `heniautos` compare? The output below compares `heniautos` calculations for the same years. Results that do not match are marked with an \"x\" (✗). The dates and year lengths indicate how far before (negative numbers) or after (positive) Meritt's results `heniautos`' results fall."
   ]
  },
  {
   "cell_type": "code",
   "execution_count": 4,
   "metadata": {},
   "outputs": [
    {
     "name": "stdout",
     "output_type": "stream",
     "text": [
      "433/432 | I   | Jun-28         | 384        \n",
      "432/431 | O   | Jul-17         | 355        \n",
      "431/430 | I ✗ | Jul-07         | 383 ✗ (+29)\n",
      "------------------------------------------------------------\n",
      "430/429 | O ✗ | Jul-25 ✗ (+29) | 354 ✗ (-30)\n",
      "429/428 | O   | Jul-13 ✗ ( -1) | 354        \n",
      "428/427 | I   | Jul-02 ✗ ( -1) | 384        \n",
      "427/426 | O   | Jul-21 ✗ ( -1) | 355 ✗ ( +1)\n",
      "426/425 | O ✗ | Jul-11         | 355 ✗ (-29)\n",
      "------------------------------------------------------------\n",
      "425/424 | I ✗ | Jun-30 ✗ (-29) | 384 ✗ (+29)\n",
      "424/423 | O   | Jul-19         | 354 ✗ ( -1)\n",
      "423/422 | I ✗ | Jul-08 ✗ ( -1) | 384 ✗ (+30)\n",
      "422/421 | O ✗ | Jul-27 ✗ (+29) | 354 ✗ (-30)\n",
      "421/420 | O   | Jul-15 ✗ ( -1) | 354        \n",
      "------------------------------------------------------------\n",
      "420/419 | I ✗ | Jul-04 ✗ ( -1) | 384 ✗ (+30)\n",
      "419/418 | O ✗ | Jul-23 ✗ ( -1) | 354 ✗ (-30)\n",
      "418/417 | O   | Jul-12 ✗ ( -1) | 355 ✗ ( +1)\n",
      "417/416 | I   | Jul-01         | 384        \n",
      "416/415 | O   | Jul-20         | 355        \n",
      "------------------------------------------------------------\n",
      "415/414 | O ✗ | Jul-10         | 354 ✗ (-30)\n",
      "414/413 | I   | Jun-29 ✗ (-30) | 384        \n",
      "413/412 | O   | Jul-17 ✗ (-30) | 354        \n",
      "412/411 | I ✗ | Jul-06 ✗ (-30) | 384 ✗ (+30)\n",
      "411/410 | O   | Jul-25         | 354        \n",
      "------------------------------------------------------------\n",
      "410/409 | O   | Jul-14         | 354 ✗ ( -1)\n",
      "409/408 | I   | Jul-02 ✗ ( -1) | 384        \n",
      "408/407 | O   | Jul-21 ✗ ( -1) | 355 ✗ ( +1)\n",
      "407/406 | O   | Jul-11         | 355 ✗ ( +1)\n",
      "406/405 | I   | Jul-01 ✗ ( +1) | 383 ✗ ( -1)\n",
      "------------------------------------------------------------\n",
      "405/404 | O   | Jul-18         | 355        \n"
     ]
    }
   ],
   "source": [
    "def check_i(m, i):\n",
    "    return f\"{m}  \" if m == meritt_intercalations[i] else f\"{m} ✗\" \n",
    "    \n",
    "    \n",
    "def fmt_i(months, i):\n",
    "    return check_i(\"I\", i) if months > 12 else check_i(\"O\", i)\n",
    "\n",
    "\n",
    "def check_m(m, year, i):\n",
    "    return f\"{m} \" if m == meritt_hek[i] else f\"{m}✗\" \n",
    "    \n",
    "\n",
    "def fmt_m(month, year):\n",
    "    mdate = ha.date(ha.bce_as_negative(year), meritt_hek1[i][0], meritt_hek1[i][1])\n",
    "    date_diff = ha.span(mdate, month['days'][0]['date'])\n",
    "    fmt_date = ha.as_eet(month['days'][0]['date'])[9:]\n",
    "    if date_diff:\n",
    "        return f\"{fmt_date} ✗ ({date_diff:+3})\"\n",
    "\n",
    "    return f\"{fmt_date:14}\"\n",
    "\n",
    "def fmt_len(f, i):\n",
    "    ln = f[-1]['days'][-1]['doy']\n",
    "    ln_diff = ln - meritt_len[i]\n",
    "    \n",
    "    if ln_diff:\n",
    "        return f\"{ln} ✗ ({ln_diff:+3})\"\n",
    "\n",
    "    return f\"{ln:<11}\"\n",
    "\n",
    "for i, year in enumerate(reversed(range(405, 434))):\n",
    "    fest = ha.festival_calendar(ha.bce_as_negative(year))\n",
    "    #pryt = ha.prytany_calendar(ha.bce_as_negative(year))\n",
    "    if not year % 5:\n",
    "        print(\"-\"*60)\n",
    "    print(f\"{year}/{year-1} | {fmt_i(len(fest), i)} | \"\n",
    "         f\"{fmt_m(fest[0], year)} | {fmt_len(fest, i)}\")"
   ]
  },
  {
   "cell_type": "markdown",
   "metadata": {},
   "source": [
    "For 18 of 28 years (64%), there is agreement about intercalation. The mismatches are not random but offset each other exactly so that overall agreement is good. For instance, for the years 426/5 and 425/4 Merrit makes the first intercalated  and `heniautos` the second, but both agree that the two years together ran from July 11, 426 to July 18, 424. This lack of agreement has no effect on the years before or after.\n",
    "\n",
    "39% of the Hekatombaiṓn dates match but most of them are trivial differences of a single day. Meritt used the dates of visible new moon as calculated by Parker and Dubberstein (1942). Today we have more accurate calculations made by computer so we can expect improvement, and since we do not know how the Athenians made their observations a single day is well with expected uncertainty. Only 6 dates (21%) are different by more than a day and represent disgreements about intercalation.\n",
    "\n",
    "The matches and mismatches in the lengths of years are another way of stating the first two categories. They total 0 for the run of 28 years! This guarantees that there is no compounding error causing the calculation to get more and more out of line with each other."
   ]
  },
  {
   "cell_type": "markdown",
   "metadata": {},
   "source": [
    "## Works Cited\n",
    "\n",
    "* Meritt, Benjamin D. 1961. _The Athenian Year_. Sather Classical Lectures 32. Berkeley: University of California Press.\n",
    "* Parker, Richard Anthony, and Waldo H. Dubberstein. 1942. _Babylonian Chronology 626 B. C.-45_. Studies in Ancient Oriental Civilization 24. Chicago: The University of Chicago Press. https://oi.uchicago.edu/research/publications/saoc/saoc-24-babylonian-chronology-626-bc-%E2%80%93-ad-45.\n"
   ]
  }
 ],
 "metadata": {
  "kernelspec": {
   "display_name": "heniautos",
   "language": "python",
   "name": "heniautos"
  },
  "language_info": {
   "codemirror_mode": {
    "name": "ipython",
    "version": 3
   },
   "file_extension": ".py",
   "mimetype": "text/x-python",
   "name": "python",
   "nbconvert_exporter": "python",
   "pygments_lexer": "ipython3",
   "version": "3.9.2"
  }
 },
 "nbformat": 4,
 "nbformat_minor": 4
}
