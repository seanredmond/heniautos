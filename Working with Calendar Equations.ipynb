{
 "cells": [
  {
   "cell_type": "markdown",
   "metadata": {},
   "source": [
    "# Working with Calendar Equations"
   ]
  },
  {
   "cell_type": "markdown",
   "metadata": {},
   "source": [
    "The most concrete scholarship relating to the ancient Athenian calendar involves \"calendar equations.\" Inscriptions that allow us to connect a festival date with a conciliar date give us clues to the nature of the calendar and can help us establish intercalations. `heniautos` has features that can help explore these calendar equations."
   ]
  },
  {
   "cell_type": "markdown",
   "metadata": {},
   "source": [
    "## [IG II/III³ 1, 1292](http://telota.bbaw.de/ig/digitale-edition/inschrift/IG%20II_III%C2%B3%201,%201292)\n",
    "\n",
    "Pritchett and Neugebauer (1947) 16 use this inscription as evidence of their interpretation of dates κατ' ἄρχοντα \"according to the árkhōn\" and κατὰ θεὸν \"according to the heavens\".   \n",
    "\n",
    "    ἐπὶ Χαρικλέους ἄρχοντος, ἐπὶ τῆς Αἰγεῖδος ἐνάτης πρυτανείας, ἧι\n",
    "    Αἰσχρίων Εὐαινέτου Ῥαμνούσιος ἐγραμμάτευεν· δήμου ψηφίσματα·\n",
    "    Ἐλαφηβολιῶνος τρίτει ἐπὶ δέκα, κατὰ θεὸν δὲ ὀγδόει <ἐπὶ δέκα, ὀγδόει> καὶ εἰκοστεῖ\n",
    "    τῆς πρυτανείας· \n",
    "\n",
    "> In the arkhonship of Khariklēs, in the ninth prytany of Aigēis, for which Aiskhríōn son of Euaínetos of Rhamnoûs was secretary; decrees of the people; Elaphēboliṓn 13, 18 according to the heavens, 28th of the prytany.\n",
    "\n",
    "There is one prytany date here, IX 28 (as prytany dates are often written), and two festival dates Elaphēboliṓn 13 or, \"according to the heavens,\" Elaphēboliṓn 18. Pritchett and Neugebauer wish to show that the κατὰ θεὸν dates are dates according to the \"natural\" lunisolar calendar while the κατ' ἄρχοντα dates have been adjusted in some way that is out of alignment with the natural calendar. They work out their calendar equation in this way (the \"_Hesperia_ text\" is Meritt (1936) 419-428 and the reference to Dinsmoor is Dinsmoor \\[1939\\]):\n",
    "\n",
    "> Prytany IX 28 in an intercalary year would correspond to the 284th day. This day, according to the _Hesperia_ text, is to be equated with κ.θ. IX 18; thus κ.θ. IX 1 = 284 - 17 = 267th day of the year, beginning with Hekatombainon 1. Accepting Dinsmoor's Julian date 196 B.C. June 18 we obtain for the 267th day 195 B.C. March 11. This day is one day later that the astronomical new moon; thus the first day of a month κατὰ θεὸν appears to be exaclyt what one would expect for the first day of a lunar calendar\n",
    "\n",
    "Pritchett and Neugebauer skip a number of steps in their explanation, beginning with their acceptance that the year 196/195 (\"arkhonship of Khariklēs\") is intercalated, then working backwards from Elaphēboliṓn 18 to identify Elaphēboliṓn 1 (267th day) as the day after an astronomical new moon. `heniautos` can help us work out all the steps more explicitly."
   ]
  },
  {
   "cell_type": "markdown",
   "metadata": {},
   "source": [
    "## Finding the DOY (Day of the Year)"
   ]
  },
  {
   "cell_type": "markdown",
   "metadata": {},
   "source": [
    "\"Day of year\" just means what number a day or date is since the beginning of that year. For example, February 1 is (always) the 32nd day of the year. March 1 is usually the DOY 60 (preceded by 31 + 28 = 59 days), but in a leap year it is DOY 61 (preceded by 31 + 29 = 60 days)\n",
    "\n",
    "The trick with calendar equations is to find a date in the festival calendar that is the same DOY as a date on the conciliar year. In the Greek calendar these vary with different arrangements of month and prytany lengths. `heniautos` has two functions to assist with this: `festival_doy()` will calculate all the possible DOY values for a given month and day; `prytany_doy()` does the same for the conciliar year given a prytany, a day, and a prytany type.\n",
    "\n",
    "In the above example we have two dates in Elaphēboliṓn, the 13th and the 18th to work with. What are the possible DOY values for Elaphēboliṓn 13?"
   ]
  },
  {
   "cell_type": "code",
   "execution_count": 1,
   "metadata": {},
   "outputs": [
    {
     "data": {
      "text/plain": [
       "({'doy': 247, 'lengths': ((30, 2), (29, 6)), 'intercalated': False},\n",
       " {'doy': 248, 'lengths': ((30, 3), (29, 5)), 'intercalated': False},\n",
       " {'doy': 249, 'lengths': ((30, 4), (29, 4)), 'intercalated': False},\n",
       " {'doy': 250, 'lengths': ((30, 5), (29, 3)), 'intercalated': False},\n",
       " {'doy': 251, 'lengths': ((30, 6), (29, 2)), 'intercalated': False},\n",
       " {'doy': 277, 'lengths': ((30, 3), (29, 6)), 'intercalated': True},\n",
       " {'doy': 278, 'lengths': ((30, 4), (29, 5)), 'intercalated': True},\n",
       " {'doy': 279, 'lengths': ((30, 5), (29, 4)), 'intercalated': True},\n",
       " {'doy': 280, 'lengths': ((30, 6), (29, 3)), 'intercalated': True})"
      ]
     },
     "execution_count": 1,
     "metadata": {},
     "output_type": "execute_result"
    }
   ],
   "source": [
    "import heniautos as ha\n",
    "ha.init_data()\n",
    "\n",
    "ha.festival_doy(ha.Months.ELA, 13)"
   ]
  },
  {
   "cell_type": "markdown",
   "metadata": {},
   "source": [
    "`festival_doy()` returns a `tuple` of `dicts`. Each `dict` has values for the day of the year (`\"doy\"`), the number of full (30-day) and hollow (29-day) months that are required for that DOY, and whether this represents an intercalation before the date. They are sorted by the values of the DOY. \n",
    "\n",
    "The first option, DOY 247, can only happen if Elaphēboliṓn is preceded by two full and six hollow months ((30 × 2) + (29 × 6) + 13 =  247). Since Elaphēboliṓn is normally the 9th month, eight preceding months means there can have been no intercalation in this count (`'intercalated': False`). Note this does not mean there is no intercalation _in the year_ since the intercalation could _follow_ Elaphēboliṓn. \n",
    "\n",
    "The last option, DOY 280, comes from six full and 3 hollow months preceding ((30 × 6) + (29 × 3) + 13 =  280). Since there are 9 preceding months, making Elaphēboliṓn the 10th month in this case, one of the preceding months must be an intercalation (`'intercalated': True`).\n",
    "\n",
    "Some mathematically possible options have been excluded as being _practically_ impossible. Elaphēboliṓn 13 would be DOY 245 if it were preceded by 8 hollow months, but this would never happen. This is explained more fully below.\n",
    "\n",
    "What about Elaphēboliṓn 18?"
   ]
  },
  {
   "cell_type": "code",
   "execution_count": 2,
   "metadata": {},
   "outputs": [
    {
     "data": {
      "text/plain": [
       "({'doy': 252, 'lengths': ((30, 2), (29, 6)), 'intercalated': False},\n",
       " {'doy': 253, 'lengths': ((30, 3), (29, 5)), 'intercalated': False},\n",
       " {'doy': 254, 'lengths': ((30, 4), (29, 4)), 'intercalated': False},\n",
       " {'doy': 255, 'lengths': ((30, 5), (29, 3)), 'intercalated': False},\n",
       " {'doy': 256, 'lengths': ((30, 6), (29, 2)), 'intercalated': False},\n",
       " {'doy': 282, 'lengths': ((30, 3), (29, 6)), 'intercalated': True},\n",
       " {'doy': 283, 'lengths': ((30, 4), (29, 5)), 'intercalated': True},\n",
       " {'doy': 284, 'lengths': ((30, 5), (29, 4)), 'intercalated': True},\n",
       " {'doy': 285, 'lengths': ((30, 6), (29, 3)), 'intercalated': True})"
      ]
     },
     "execution_count": 2,
     "metadata": {},
     "output_type": "execute_result"
    }
   ],
   "source": [
    "ha.festival_doy(ha.Months.ELA, 18)"
   ]
  },
  {
   "cell_type": "markdown",
   "metadata": {},
   "source": [
    "Now we come to the conciliar year. What are the possible DOY values for Prytany IX 28? In 196/195 BCE there were twelve tribes and therefore 12 prytanies and the conciliar year began and ended with the festival year—in `heniautos` terms we want to use `Prytany.ALIGNED_12`."
   ]
  },
  {
   "cell_type": "code",
   "execution_count": 3,
   "metadata": {},
   "outputs": [
    {
     "data": {
      "text/plain": [
       "({'doy': 260, 'lengths': ((30, 0), (29, 8)), 'intercalated': False},\n",
       " {'doy': 261, 'lengths': ((30, 1), (29, 7)), 'intercalated': False},\n",
       " {'doy': 262, 'lengths': ((30, 2), (29, 6)), 'intercalated': False},\n",
       " {'doy': 263, 'lengths': ((30, 3), (29, 5)), 'intercalated': False},\n",
       " {'doy': 264, 'lengths': ((30, 4), (29, 4)), 'intercalated': False},\n",
       " {'doy': 265, 'lengths': ((30, 5), (29, 3)), 'intercalated': False},\n",
       " {'doy': 266, 'lengths': ((30, 6), (29, 2)), 'intercalated': False},\n",
       " {'doy': 267, 'lengths': ((30, 7), (29, 1)), 'intercalated': False},\n",
       " {'doy': 268, 'lengths': ((30, 8), (29, 0)), 'intercalated': False},\n",
       " {'doy': 284, 'lengths': ((32, 8),), 'intercalated': True})"
      ]
     },
     "execution_count": 3,
     "metadata": {},
     "output_type": "execute_result"
    }
   ],
   "source": [
    "ha.prytany_doy(9, 28, pryt_type=ha.Prytany.ALIGNED_12)"
   ]
  },
  {
   "cell_type": "markdown",
   "metadata": {},
   "source": [
    "The result returned by `prytany_doy()` is similar, but intercalation has a different meaning the conciliar year. In this period an intercalated year would have twelve 32-day prytanies, while a normal year would have twelve 30- or 29-day prytanies following the lunar months. Therefore intercalation affects the _lengths_ of the preceding prytanies rather than their _number_ as it does the number of months of the festival calendar. In this example, all the possible values for the DOY involve eight preceding prytanies. Either they were all 32 days long (DOY 284) or they were some combination of 29 and 30 days (DOY 260-268). \n",
    "\n",
    "Some of these values (8 29-day prytanies) are no more practically possible than they are for the festival calendar but, because there are so many variations of the conciliar calendar along with the unresolved question of the \"Rule of Aristotle\", `prytany_doy()` does not try to exclude these.\n",
    "\n",
    "Scanning these values will tell us that there is only one possible calendar equation, but it is so much better to write a function to do the figuring:"
   ]
  },
  {
   "cell_type": "code",
   "execution_count": 14,
   "metadata": {},
   "outputs": [],
   "source": [
    "def find_equations(month, month_day, prytany, prytany_day, prytany_type):\n",
    "    fest = ha.festival_doy(month, month_day)\n",
    "    pry = ha.prytany_doy(prytany, prytany_day, pryt_type=prytany_type)\n",
    "    \n",
    "    matches = set([p[\"doy\"] for p in pry]) & set([f[\"doy\"] for f in fest])\n",
    "    \n",
    "    return [{\"doy\": m, \n",
    "             \"matches\": {\"conciliar\": [p for p in pry if p[\"doy\"] == m], \n",
    "                         \"festival\": [f for f in fest if f[\"doy\"] == m]}} for m in matches]"
   ]
  },
  {
   "cell_type": "markdown",
   "metadata": {},
   "source": [
    "This should give us matching options from both years, if they exist."
   ]
  },
  {
   "cell_type": "code",
   "execution_count": 5,
   "metadata": {},
   "outputs": [
    {
     "data": {
      "text/plain": [
       "[]"
      ]
     },
     "execution_count": 5,
     "metadata": {},
     "output_type": "execute_result"
    }
   ],
   "source": [
    "find_equations(ha.Months.ELA, 13, 9, 28, ha.Prytany.ALIGNED_12)"
   ]
  },
  {
   "cell_type": "code",
   "execution_count": 6,
   "metadata": {},
   "outputs": [
    {
     "data": {
      "text/plain": [
       "[{'doy': 284,\n",
       "  'matches': {'conciliar': [{'doy': 284,\n",
       "     'lengths': ((32, 8),),\n",
       "     'intercalated': True}],\n",
       "   'festival': [{'doy': 284,\n",
       "     'lengths': ((30, 5), (29, 4)),\n",
       "     'intercalated': True}]}}]"
      ]
     },
     "execution_count": 6,
     "metadata": {},
     "output_type": "execute_result"
    }
   ],
   "source": [
    "find_equations(ha.Months.ELA, 18, 9, 28, ha.Prytany.ALIGNED_12)"
   ]
  },
  {
   "cell_type": "markdown",
   "metadata": {},
   "source": [
    "This confirms Pritchett and Neugebauer. There is no solution that satisfies the equation:\n",
    "\n",
    "    Elaphēboliṓn 13 = Prytany IX 28\n",
    "    \n",
    "That is, there is no possible DOY value for this festival calendar date that matches any possible DOY values for this conciliar year date. For Elaphēboliṓn 18, though, there is exactly one solution\n",
    "\n",
    "    Elaphēboliṓn 18 = Prytany IX 28 = DOY 284\n",
    "    \n",
    "The κατὰ θεὸν date does match a \"natural\" date of the lunisolar calendar. The κατ' ἄρχοντα date must indicate an earlier manipulation of the calendar (for what reason we can't say) that caused the \"official\" Elaphēboliṓn to start 5 days later than the astronomical.\n",
    "\n",
    "Furthermore, our solution specifies that it be an intercalated year, that the intercalation occur before Elaphēboliṓn, and that Elaphēboliṓn be preceded by 5 full and 4 hollow months. How does this compare to the festival year as calculated by `heniautos`? Meritt (1936) and Pritchett and Neugebauer (1947) date the arkhonship of Khariklēs to 196/195 BCE:"
   ]
  },
  {
   "cell_type": "code",
   "execution_count": 7,
   "metadata": {},
   "outputs": [
    {
     "name": "stdout",
     "output_type": "stream",
     "text": [
      " 1 | Hekatombaiṓn | BCE 0196-Jul-17 | 30\n",
      " 2 | Metageitniṓn | BCE 0196-Aug-16 | 29\n",
      " 3 | Boēdromiṓn   | BCE 0196-Sep-14 | 30\n",
      " 4 | Puanepsiṓn   | BCE 0196-Oct-14 | 30\n",
      " 5 | Maimaktēriṓn | BCE 0196-Nov-13 | 29\n",
      " 6 | Poseidēiṓn   | BCE 0196-Dec-12 | 30\n",
      " 7 | Gamēliṓn     | BCE 0195-Jan-11 | 30\n",
      " 8 | Anthestēriṓn | BCE 0195-Feb-10 | 30\n",
      " 9 | Elaphēboliṓn | BCE 0195-Mar-12 | 29\n",
      "10 | Mounuchiṓn   | BCE 0195-Apr-10 | 29\n",
      "11 | Thargēliṓn   | BCE 0195-May-09 | 30\n",
      "12 | Skirophoriṓn | BCE 0195-Jun-08 | 29\n"
     ]
    }
   ],
   "source": [
    "for i, month in enumerate(ha.festival_calendar(ha.bce_as_negative(196)), 1):\n",
    "    print(f\"{i:>2} | {month['month']:12} | {ha.as_eet(month['days'][0]['date'])} | {len(month['days'])}\" )"
   ]
  },
  {
   "cell_type": "markdown",
   "metadata": {},
   "source": [
    "Not so good. According to `heniautos` calculations, 196/195 is _not_ an intercalary year and cannot satisfy any calendar equation where Prytany IX 28 = DOY 284. There are three main possiblities: 1) `heniautos`' calculations are wrong, 2) `heniautos` calculations are \"right\" but do not match the historical calculations or manipulations made by the Athenians of the 2nd century BCE, 3) the year is wrong.\n",
    "\n",
    "In this case, actually, the year is not so certain. Khariklēs is now generally dated to 184/183:"
   ]
  },
  {
   "cell_type": "code",
   "execution_count": 8,
   "metadata": {},
   "outputs": [
    {
     "name": "stdout",
     "output_type": "stream",
     "text": [
      " 1 | Hekatombaiṓn        | BCE 0184-Jul-06 | 29\n",
      " 2 | Metageitniṓn        | BCE 0184-Aug-04 | 29\n",
      " 3 | Boēdromiṓn          | BCE 0184-Sep-02 | 30\n",
      " 4 | Puanepsiṓn          | BCE 0184-Oct-02 | 29\n",
      " 5 | Maimaktēriṓn        | BCE 0184-Oct-31 | 30\n",
      " 6 | Poseidēiṓn          | BCE 0184-Nov-30 | 29\n",
      " 7 | Poseidēiṓn hústeros | BCE 0184-Dec-29 | 30\n",
      " 8 | Gamēliṓn            | BCE 0183-Jan-28 | 29\n",
      " 9 | Anthestēriṓn        | BCE 0183-Feb-26 | 30\n",
      "10 | Elaphēboliṓn        | BCE 0183-Mar-28 | 30\n",
      "11 | Mounuchiṓn          | BCE 0183-Apr-27 | 29\n",
      "12 | Thargēliṓn          | BCE 0183-May-26 | 30\n",
      "13 | Skirophoriṓn        | BCE 0183-Jun-25 | 29\n"
     ]
    }
   ],
   "source": [
    "for i, month in enumerate(ha.festival_calendar(ha.bce_as_negative(184)), 1):\n",
    "    print(f\"{i:>2} | {month['month']:19} | {ha.as_eet(month['days'][0]['date'])} | {len(month['days'])}\" )"
   ]
  },
  {
   "cell_type": "markdown",
   "metadata": {},
   "source": [
    "Better at first glance since we have an intercalary year. However, this Elaphēboliṓn is preceded by 4 full and 5 hollow months and we were expecting the reverse, 5 full and 4 hollow. If we look at Elaphēboliṓn itself, according to `heniautos`, the 18th is DOY 283 not 284."
   ]
  },
  {
   "cell_type": "code",
   "execution_count": 9,
   "metadata": {},
   "outputs": [
    {
     "name": "stdout",
     "output_type": "stream",
     "text": [
      "Ela  1 | BCE 0183-Mar-28 | 266\n",
      "Ela  2 | BCE 0183-Mar-29 | 267\n",
      "Ela  3 | BCE 0183-Mar-30 | 268\n",
      "Ela  4 | BCE 0183-Mar-31 | 269\n",
      "Ela  5 | BCE 0183-Apr-01 | 270\n",
      "Ela  6 | BCE 0183-Apr-02 | 271\n",
      "Ela  7 | BCE 0183-Apr-03 | 272\n",
      "Ela  8 | BCE 0183-Apr-04 | 273\n",
      "Ela  9 | BCE 0183-Apr-05 | 274\n",
      "Ela 10 | BCE 0183-Apr-06 | 275\n",
      "Ela 11 | BCE 0183-Apr-07 | 276\n",
      "Ela 12 | BCE 0183-Apr-08 | 277\n",
      "Ela 13 | BCE 0183-Apr-09 | 278\n",
      "Ela 14 | BCE 0183-Apr-10 | 279\n",
      "Ela 15 | BCE 0183-Apr-11 | 280\n",
      "Ela 16 | BCE 0183-Apr-12 | 281\n",
      "Ela 17 | BCE 0183-Apr-13 | 282\n",
      "Ela 18 | BCE 0183-Apr-14 | 283\n",
      "Ela 19 | BCE 0183-Apr-15 | 284\n",
      "Ela 20 | BCE 0183-Apr-16 | 285\n",
      "Ela 21 | BCE 0183-Apr-17 | 286\n",
      "Ela 22 | BCE 0183-Apr-18 | 287\n",
      "Ela 23 | BCE 0183-Apr-19 | 288\n",
      "Ela 24 | BCE 0183-Apr-20 | 289\n",
      "Ela 25 | BCE 0183-Apr-21 | 290\n",
      "Ela 26 | BCE 0183-Apr-22 | 291\n",
      "Ela 27 | BCE 0183-Apr-23 | 292\n",
      "Ela 28 | BCE 0183-Apr-24 | 293\n",
      "Ela 29 | BCE 0183-Apr-25 | 294\n",
      "Ela 30 | BCE 0183-Apr-26 | 295\n"
     ]
    }
   ],
   "source": [
    "for d in ha.festival_calendar(ha.bce_as_negative(184))[9][\"days\"]:\n",
    "    print(f\"Ela {d['day']:>2} | {ha.as_eet(d['date'])} | {d['doy']}\")"
   ]
  },
  {
   "cell_type": "markdown",
   "metadata": {},
   "source": [
    "Still it is only one day's difference. Given the uncertainty in how well these astronomically-based calculations match with the real, historical observations we might satisfy ourselves that this is close enough.\n",
    "\n",
    "We might, but we do not have to. There is uncertainty in these calculations, but there is still _more_ uncertainty about the date of Khariklēs' arkhonship. Knoepfler (2015) would place it instead in 200/199. The editors of AIO (n.d.) give both dates for this arkhonship because \"At present there seem to be no decisive arguments and we therefore leave both possibilities open.\"\n",
    "\n",
    "What does `heniautos` say for 200/199 BCE?"
   ]
  },
  {
   "cell_type": "code",
   "execution_count": 10,
   "metadata": {},
   "outputs": [
    {
     "name": "stdout",
     "output_type": "stream",
     "text": [
      " 1 | Hekatombaiṓn        | BCE 0200-Jul-02 | 30\n",
      " 2 | Metageitniṓn        | BCE 0200-Aug-01 | 30\n",
      " 3 | Boēdromiṓn          | BCE 0200-Aug-31 | 29\n",
      " 4 | Puanepsiṓn          | BCE 0200-Sep-29 | 30\n",
      " 5 | Maimaktēriṓn        | BCE 0200-Oct-29 | 29\n",
      " 6 | Poseidēiṓn          | BCE 0200-Nov-27 | 30\n",
      " 7 | Poseidēiṓn hústeros | BCE 0200-Dec-27 | 29\n",
      " 8 | Gamēliṓn            | BCE 0199-Jan-25 | 29\n",
      " 9 | Anthestēriṓn        | BCE 0199-Feb-23 | 30\n",
      "10 | Elaphēboliṓn        | BCE 0199-Mar-25 | 29\n",
      "11 | Mounuchiṓn          | BCE 0199-Apr-23 | 30\n",
      "12 | Thargēliṓn          | BCE 0199-May-23 | 29\n",
      "13 | Skirophoriṓn        | BCE 0199-Jun-21 | 30\n"
     ]
    }
   ],
   "source": [
    "for i, month in enumerate(ha.festival_calendar(ha.bce_as_negative(200)), 1):\n",
    "    print(f\"{i:>2} | {month['month']:19} | {ha.as_eet(month['days'][0]['date'])} | {len(month['days'])}\" )"
   ]
  },
  {
   "cell_type": "markdown",
   "metadata": {},
   "source": [
    "We have an intercalary year and this Elaphēboliṓn is preceded by 5 full and 4 hollow months, exactly what we are looking for. This Elaphēboliṓn 18 is DOY 284"
   ]
  },
  {
   "cell_type": "code",
   "execution_count": 11,
   "metadata": {},
   "outputs": [
    {
     "name": "stdout",
     "output_type": "stream",
     "text": [
      "Ela  1 | BCE 0199-Mar-25 | 267\n",
      "Ela  2 | BCE 0199-Mar-26 | 268\n",
      "Ela  3 | BCE 0199-Mar-27 | 269\n",
      "Ela  4 | BCE 0199-Mar-28 | 270\n",
      "Ela  5 | BCE 0199-Mar-29 | 271\n",
      "Ela  6 | BCE 0199-Mar-30 | 272\n",
      "Ela  7 | BCE 0199-Mar-31 | 273\n",
      "Ela  8 | BCE 0199-Apr-01 | 274\n",
      "Ela  9 | BCE 0199-Apr-02 | 275\n",
      "Ela 10 | BCE 0199-Apr-03 | 276\n",
      "Ela 11 | BCE 0199-Apr-04 | 277\n",
      "Ela 12 | BCE 0199-Apr-05 | 278\n",
      "Ela 13 | BCE 0199-Apr-06 | 279\n",
      "Ela 14 | BCE 0199-Apr-07 | 280\n",
      "Ela 15 | BCE 0199-Apr-08 | 281\n",
      "Ela 16 | BCE 0199-Apr-09 | 282\n",
      "Ela 17 | BCE 0199-Apr-10 | 283\n",
      "Ela 18 | BCE 0199-Apr-11 | 284\n",
      "Ela 19 | BCE 0199-Apr-12 | 285\n",
      "Ela 20 | BCE 0199-Apr-13 | 286\n",
      "Ela 21 | BCE 0199-Apr-14 | 287\n",
      "Ela 22 | BCE 0199-Apr-15 | 288\n",
      "Ela 23 | BCE 0199-Apr-16 | 289\n",
      "Ela 24 | BCE 0199-Apr-17 | 290\n",
      "Ela 25 | BCE 0199-Apr-18 | 291\n",
      "Ela 26 | BCE 0199-Apr-19 | 292\n",
      "Ela 27 | BCE 0199-Apr-20 | 293\n",
      "Ela 28 | BCE 0199-Apr-21 | 294\n",
      "Ela 29 | BCE 0199-Apr-22 | 295\n"
     ]
    }
   ],
   "source": [
    "for d in ha.festival_calendar(ha.bce_as_negative(200))[9][\"days\"]:\n",
    "    print(f\"Ela {d['day']:>2} | {ha.as_eet(d['date'])} | {d['doy']}\")"
   ]
  },
  {
   "cell_type": "markdown",
   "metadata": {},
   "source": [
    "Now we have an exact calendar equation:\n",
    "\n",
    "    Elaphēboliṓn 18 = Prytany IX 28 = DOY 284 = BCE 0199-Apr-11\n",
    "    \n",
    "I would not go as far as saying that this proves that Khariklēs was arkhon in 200/199 but it is an interesting bit of evidence."
   ]
  },
  {
   "cell_type": "markdown",
   "metadata": {},
   "source": [
    "## `festival_doy()` and `prytany_doy()` in Detail"
   ]
  },
  {
   "cell_type": "markdown",
   "metadata": {},
   "source": [
    "As mentioned above, `festival_doy()` excluded less probable DOY values based on the mechanics of the lunar cycles. `heniautos` rarely generates 4 months of the same length, either hollow or full, in row and does not seem to ever generate 5. Given five months, the maximum difference between the number of each will be 3 (e.g. FFFFh = a differnce of 3). With 6 months a sequences like FFFFhF, with a difference of 4, are possible but not greater difference seems to occur.\n",
    "\n",
    "The default behavior, then, is for `festival_doy()` to exclude any combinations of full and hollow months that differ in number by greater than 4. You can choose your own values with the `max_diff` parameter. For example `festival_doy(ha.Months.ELA, 18, max_diff=3)` will return fewer possibilities. Use `festival_doy(ha.Months.ELA, 18, max_diff=0)` to do no filtering at all and return all possibilities.\n",
    "\n",
    "`prytany_doy()` does not do any filtering be default (that is, its default is `max_diff=0`). You can supply `max_diff` if you want.\n",
    "\n",
    "If you give `prytany_doy()` a year and do not specify a `Prytany` constant (see [ADSDA](Heniautos%20Basics.ipynb#Choosing-a-Prytany-Variation)) it will choose the prytany type based on the year: \n"
   ]
  },
  {
   "cell_type": "code",
   "execution_count": 12,
   "metadata": {},
   "outputs": [
    {
     "data": {
      "text/plain": [
       "({'doy': 260, 'lengths': ((30, 0), (29, 8)), 'intercalated': False},\n",
       " {'doy': 261, 'lengths': ((30, 1), (29, 7)), 'intercalated': False},\n",
       " {'doy': 262, 'lengths': ((30, 2), (29, 6)), 'intercalated': False},\n",
       " {'doy': 263, 'lengths': ((30, 3), (29, 5)), 'intercalated': False},\n",
       " {'doy': 264, 'lengths': ((30, 4), (29, 4)), 'intercalated': False},\n",
       " {'doy': 265, 'lengths': ((30, 5), (29, 3)), 'intercalated': False},\n",
       " {'doy': 266, 'lengths': ((30, 6), (29, 2)), 'intercalated': False},\n",
       " {'doy': 267, 'lengths': ((30, 7), (29, 1)), 'intercalated': False},\n",
       " {'doy': 268, 'lengths': ((30, 8), (29, 0)), 'intercalated': False},\n",
       " {'doy': 284, 'lengths': ((32, 8),), 'intercalated': True})"
      ]
     },
     "execution_count": 12,
     "metadata": {},
     "output_type": "execute_result"
    }
   ],
   "source": [
    "ha.prytany_doy(9, 28, ha.bce_as_negative(200))"
   ]
  },
  {
   "cell_type": "markdown",
   "metadata": {},
   "source": [
    "Otherwise you need to specify the prytany type in the examples above. This is the equivalent of the previous (but yo ucould give a different prytany type of you thought the automatic choice was wrong):"
   ]
  },
  {
   "cell_type": "code",
   "execution_count": 13,
   "metadata": {},
   "outputs": [
    {
     "data": {
      "text/plain": [
       "({'doy': 260, 'lengths': ((30, 0), (29, 8)), 'intercalated': False},\n",
       " {'doy': 261, 'lengths': ((30, 1), (29, 7)), 'intercalated': False},\n",
       " {'doy': 262, 'lengths': ((30, 2), (29, 6)), 'intercalated': False},\n",
       " {'doy': 263, 'lengths': ((30, 3), (29, 5)), 'intercalated': False},\n",
       " {'doy': 264, 'lengths': ((30, 4), (29, 4)), 'intercalated': False},\n",
       " {'doy': 265, 'lengths': ((30, 5), (29, 3)), 'intercalated': False},\n",
       " {'doy': 266, 'lengths': ((30, 6), (29, 2)), 'intercalated': False},\n",
       " {'doy': 267, 'lengths': ((30, 7), (29, 1)), 'intercalated': False},\n",
       " {'doy': 268, 'lengths': ((30, 8), (29, 0)), 'intercalated': False},\n",
       " {'doy': 284, 'lengths': ((32, 8),), 'intercalated': True})"
      ]
     },
     "execution_count": 13,
     "metadata": {},
     "output_type": "execute_result"
    }
   ],
   "source": [
    "ha.prytany_doy(9, 28, pryt_type=ha.Prytany.ALIGNED_12)"
   ]
  },
  {
   "cell_type": "markdown",
   "metadata": {},
   "source": [
    "## Works Cited\n",
    "\n",
    "* Dinsmoor, William Bell. 1939. _The Athenian Archon List in the Light of Recent Discoveries_. New York: Columbia University Press. https://doi.org/10.7312/dins93096.\n",
    "* Knoepfler, D. 2015. “Τὰ τριάκοντα ἔτη. Observations sur le texte, le contenu et la date du décret d’Athènes pour Képhisodoros.” In _Α‬ξων: studies in honor of Ronald S. Stroud_, edited by Angelos P Matthaiou and Nikolaos Papazarkadas, 257–90. Hellēnikē Epigraphikē Hetaireia 17.\n",
    "* Meritt, Benjamin D. 1936. “Greek Inscriptions.” _Hesperia_ 5 (3): 355–430. https://doi.org/10.2307/146623.\n",
    "* Pritchett, W. Kendrick, and O. Neugebauer. 1947. _The Calendars of Athens_. Cambridge: Harvard University Press.\n",
    "* AIO. n.d. “IGII31 1292 Honours for Kephisodoros.” Accessed April 3, 2021. https://www.atticinscriptions.com/inscription/IGII31/1292."
   ]
  },
  {
   "cell_type": "code",
   "execution_count": null,
   "metadata": {},
   "outputs": [],
   "source": []
  }
 ],
 "metadata": {
  "kernelspec": {
   "display_name": "heniautos",
   "language": "python",
   "name": "heniautos"
  },
  "language_info": {
   "codemirror_mode": {
    "name": "ipython",
    "version": 3
   },
   "file_extension": ".py",
   "mimetype": "text/x-python",
   "name": "python",
   "nbconvert_exporter": "python",
   "pygments_lexer": "ipython3",
   "version": "3.9.2"
  }
 },
 "nbformat": 4,
 "nbformat_minor": 4
}
