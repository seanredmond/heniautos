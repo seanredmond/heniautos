{
 "cells": [
  {
   "cell_type": "markdown",
   "metadata": {},
   "source": [
    "# Working with Calendar Equations"
   ]
  },
  {
   "cell_type": "markdown",
   "metadata": {},
   "source": [
    "## What are Calendar Equations?\n",
    "\n",
    "Starting in the fourth century BCE Athenians, when recording decrees of the ekklesia, frequently used a standard preamble for inscriptions that gave both a prytany date and a festival calendar date. [IG II/III³ 1, 338](http://telota.bbaw.de/ig/digitale-edition/inschrift/IG%20II_III%C2%B3%201,%20338) (=IG II² 338) is a good example that offers the fullest form with no restorations:\n",
    "\n",
    "    ἐπὶ Νικοκράτους ἄρχοντος, ἐπὶ τῆς Αἰγηίδος\n",
    "    πρώτης πρυτανείας, ἧι Ἀρχέλας Χαιρίου Παλ–\n",
    "    ληνεὺς ἐγραμμάτευεν· Μεταγειτνιῶνος ἐνά–\n",
    "    τηι ἱσταμένου· ἐνάτηι καὶ τριακοστῆι τῆς\n",
    "    πρυτανείας\n",
    "    \n",
    "The parts of this preamble are:\n",
    "\n",
    "1. The árkhōn: ἐπὶ Νικοκράτους ἄρχοντος, \"in the árkhōnship of Nikokrátēs...\"\n",
    "2. The prytany and tribe that held it: ἐπὶ τῆς Αἰγηίδος πρώτης πρυτανείας, \"...in the first prytany, held by Aigēis...\"\n",
    "3. The secretary: ἧι Ἀρχέλας Χαιρίου Παλληνεὺς ἐγραμμάτευεν, \"...for which Arkhélas son of Khairías from Pallēnē was secretary...\"\n",
    "4. The festival date: Μεταγειτνιῶνος ἐνάτηι ἱσταμένου, \"...9th of Metageitniṓn...\"\n",
    "5. The prytany day: ἐνάτηι καὶ τριακοστῆι τῆς πρυτανείας, \"...39th of the prytany\"\n",
    "\n",
    "These two dates provide a _calendar equation_: \n",
    "\n",
    "    Metageitniṓn 9 = Prytany I.39\n",
    "\n",
    "In some cases, the equation provides useful data about the calendar for the year, or the calendar in general. For instance, this inscription tells us three things:\n",
    "\n",
    "1. The year (333/332 BCE, which we know from the árkhōn) was **intercalary** because this prytany (the first) has 39 days. In a normal year, the longest prytanies were 36 days.\n",
    "2. Hekatombaiṓn was **full**. If the 39th day of the prytany is Metageitniṓn 9, the 31st would be Metageitniṓn 1, and therefore the 30th has to be Hekatombaiṓn 30. \n",
    "3. The intercalated month was **not** Hekatombaiṓn because having a second Hekatombaiṓn before Metageitniṓn would push Metageitniṓn into the second prytany. This is hardly surprising, but it is worth keeping in mind.\n",
    "\n",
    "I.39 is the 39th day of the year, as is Metageitniṓn 9 if Hekatombaiṓn is full (30 + 9 = 39). The solution to this equation, then, is\n",
    "\n",
    "    Met 9 = I 39 = DOY 39\n",
    "\n",
    "The year is intercalary, and begins with a full Hekatombaiṓn and 39-day prytany I."
   ]
  },
  {
   "cell_type": "markdown",
   "metadata": {},
   "source": [
    "## Using `heniautos` with Calendar Equations\n",
    "With an equation such as this, `heniautos` can help determine the possible alignments of the two calendars, expressed as being the same DOY (day of the year). It is worth looking at an example with more possible solutions.\n",
    "\n",
    "[IG II³ 345](http://telota.bbaw.de/ig/digitale-edition/inschrift/IG%20II_III%C2%B3%201,%20345) (= II² 345) is similarly complete (at least in terms of the dates), but comes much later in this year—332/1 BCE in this case..\n",
    "\n",
    "    ἐπὶ Νικήτου ἄρ[χοντος, ἐ]πὶ τῆς Ἀντιοχ–\n",
    "    ίδος ὀγδόης π[ρυτανεία]ς, ἧι Ἀριστόνο–\n",
    "    υς Ἀριστόνο[υ Ἀναγυράσι]ος ἐγραμ[μά]τ–\n",
    "    ευεν· Ἐλαφη[βολιῶνος ἐν]άτηι ἐπὶ δέκα·\n",
    "    ἑβδόμ[ηι τῆς πρυτανείας]\n",
    "    \n",
    "What are the possible sollutions? for \n",
    "\n",
    "    Elaphēboliṓn 19 = Prytany VIII 7?\n",
    "    \n",
    "`heniautos` provides three functions to help with this: `festival_doy()`, `prytany_doy()`, and `equations()`"
   ]
  },
  {
   "cell_type": "markdown",
   "metadata": {},
   "source": [
    "### `festival_doy()`\n",
    "\n",
    "`festival_doy()` will calculate the possible days of the year for a date on the festival calendar:"
   ]
  },
  {
   "cell_type": "code",
   "execution_count": 2,
   "metadata": {},
   "outputs": [
    {
     "data": {
      "text/plain": [
       "({'date': (<Months.ELA: 9>, 19),\n",
       "  'doy': 254,\n",
       "  'preceding': (30, 30, 30, 29, 29, 29, 29, 29),\n",
       "  'intercalation': False},\n",
       " {'date': (<Months.ELA: 9>, 19),\n",
       "  'doy': 255,\n",
       "  'preceding': (30, 30, 30, 30, 29, 29, 29, 29),\n",
       "  'intercalation': False},\n",
       " {'date': (<Months.ELA: 9>, 19),\n",
       "  'doy': 256,\n",
       "  'preceding': (30, 30, 30, 30, 30, 29, 29, 29),\n",
       "  'intercalation': False},\n",
       " {'date': (<Months.ELA: 9>, 19),\n",
       "  'doy': 257,\n",
       "  'preceding': (30, 30, 30, 30, 30, 30, 29, 29),\n",
       "  'intercalation': False},\n",
       " {'date': (<Months.ELA: 9>, 19),\n",
       "  'doy': 258,\n",
       "  'preceding': (30, 30, 30, 30, 30, 30, 30, 29),\n",
       "  'intercalation': False},\n",
       " {'date': (<Months.ELA: 9>, 19),\n",
       "  'doy': 283,\n",
       "  'preceding': (30, 30, 30, 29, 29, 29, 29, 29, 29),\n",
       "  'intercalation': True},\n",
       " {'date': (<Months.ELA: 9>, 19),\n",
       "  'doy': 284,\n",
       "  'preceding': (30, 30, 30, 30, 29, 29, 29, 29, 29),\n",
       "  'intercalation': True},\n",
       " {'date': (<Months.ELA: 9>, 19),\n",
       "  'doy': 285,\n",
       "  'preceding': (30, 30, 30, 30, 30, 29, 29, 29, 29),\n",
       "  'intercalation': True},\n",
       " {'date': (<Months.ELA: 9>, 19),\n",
       "  'doy': 286,\n",
       "  'preceding': (30, 30, 30, 30, 30, 30, 29, 29, 29),\n",
       "  'intercalation': True},\n",
       " {'date': (<Months.ELA: 9>, 19),\n",
       "  'doy': 287,\n",
       "  'preceding': (30, 30, 30, 30, 30, 30, 30, 29, 29),\n",
       "  'intercalation': True})"
      ]
     },
     "execution_count": 2,
     "metadata": {},
     "output_type": "execute_result"
    }
   ],
   "source": [
    "import heniautos as ha\n",
    "ha.init_data()\n",
    "\n",
    "ha.festival_doy(ha.Months.ELA, 19)"
   ]
  },
  {
   "cell_type": "markdown",
   "metadata": {},
   "source": [
    "Each `dict` in these results represents one possibility for Elaphēboliṓn 19. The first possibility is:\n",
    "\n",
    "    {'date': (<Months.ELA: 9>, 19),\n",
    "     'doy': 254,\n",
    "     'preceding': (30, 30, 30, 29, 29, 29, 29, 29),\n",
    "     'intercalation': False}\n",
    "     \n",
    "This means that Elaphēboliṓn 19 can be DOY 254 if it is preceded by 3 full and five hollow months—the list of month lengths in `preceding`—and that none of them are intercalated months. Since Elaphēboliṓn is normally the 9th month, if it is preceded by eight months they are also all the normal months.\n",
    "\n",
    "Note that the list of month lengths in `preceding` is a _count_ only. No order is implied and they could be rearranged in any way without changing the result that:\n",
    "\n",
    "    (30 × 3) + (29 × 5) + 19 = 254\n",
    "    \n",
    "The last possibility is:\n",
    "\n",
    "    {'date': (<Months.ELA: 9>, 19),\n",
    "     'doy': 287,\n",
    "     'preceding': (30, 30, 30, 30, 30, 30, 30, 29, 29),\n",
    "     'intercalation': True})\n",
    "     \n",
    "This means that Elaphēboliṓn 19 can be DOY 287 if it is preceded by 7 full and 2 hollow months—nine in total meaning that this Elaphēboliṓn is the _tenth_ month and one of the preceding months is intercalated. Technically, it is also possible the the Elaphēboliṓn input to `festival_doy()` is the intercalated month. That is, the ninth month is normal Elaphēboliṓn and this tenth month is _Elaphēboliṓn hústeros_. We would expect that to be indicated in the inscription but it is not always so clear.\n",
    "\n",
    "Altogether without a preceding intercalation Elaphēboliṓn 19 can fall in the range of DOY 254–258. With a preceding intercalation it can fall in the range DOY 283–287.\n",
    "\n",
    "Since no year can have more than seven full months or six hollow months, `festival_doy()` does not return possibilites that exceed these. For instance, Elaphēboliṓn 19 _could_ be DOY 288 if it was preceded by eight full months and one hollow but eight full months in a year is impossible."
   ]
  },
  {
   "cell_type": "markdown",
   "metadata": {},
   "source": [
    "### `prytany_doy()`\n",
    "\n",
    "`prytany_doy()` performs the equivalent calculation for the conciliar year. This function requires either a specific prytany type (a `Prytany` constant), or a year with `Prytany.AUTO`. These two invocations return the same results:\n",
    "\n",
    "    ha.prytany_doy(ha.Prytanies.VIII, 7, pryt_type=ha.Prytany.ALIGNED_10)\n",
    "    ha.prytany_doy(ha.Prytanies.VIII, 7, pryt_type=ha.Prytany.AUTO, \n",
    "        ha.bce_as_negative(333))"
   ]
  },
  {
   "cell_type": "code",
   "execution_count": 3,
   "metadata": {},
   "outputs": [
    {
     "data": {
      "text/plain": [
       "({'date': (<Prytanies.VIII: 8>, 7),\n",
       "  'doy': 253,\n",
       "  'preceding': (36, 35, 35, 35, 35, 35, 35),\n",
       "  'intercalation': False},\n",
       " {'date': (<Prytanies.VIII: 8>, 7),\n",
       "  'doy': 254,\n",
       "  'preceding': (36, 36, 35, 35, 35, 35, 35),\n",
       "  'intercalation': False},\n",
       " {'date': (<Prytanies.VIII: 8>, 7),\n",
       "  'doy': 255,\n",
       "  'preceding': (36, 36, 36, 35, 35, 35, 35),\n",
       "  'intercalation': False},\n",
       " {'date': (<Prytanies.VIII: 8>, 7),\n",
       "  'doy': 256,\n",
       "  'preceding': (36, 36, 36, 36, 35, 35, 35),\n",
       "  'intercalation': False},\n",
       " {'date': (<Prytanies.VIII: 8>, 7),\n",
       "  'doy': 274,\n",
       "  'preceding': (39, 38, 38, 38, 38, 38, 38),\n",
       "  'intercalation': True},\n",
       " {'date': (<Prytanies.VIII: 8>, 7),\n",
       "  'doy': 275,\n",
       "  'preceding': (39, 39, 38, 38, 38, 38, 38),\n",
       "  'intercalation': True},\n",
       " {'date': (<Prytanies.VIII: 8>, 7),\n",
       "  'doy': 276,\n",
       "  'preceding': (39, 39, 39, 38, 38, 38, 38),\n",
       "  'intercalation': True},\n",
       " {'date': (<Prytanies.VIII: 8>, 7),\n",
       "  'doy': 277,\n",
       "  'preceding': (39, 39, 39, 39, 38, 38, 38),\n",
       "  'intercalation': True})"
      ]
     },
     "execution_count": 3,
     "metadata": {},
     "output_type": "execute_result"
    }
   ],
   "source": [
    "ha.prytany_doy(ha.Prytanies.VIII, 7, pryt_type=ha.Prytany.ALIGNED_10) "
   ]
  },
  {
   "cell_type": "markdown",
   "metadata": {},
   "source": [
    "The results are similar to those from `festival_doy()`.\n",
    "\n",
    "The first possibility is DOY 253:\n",
    "\n",
    "    {'date': (<Prytanies.VIII: 8>, 7),\n",
    "     'doy': 253,\n",
    "     'preceding': (36, 35, 35, 35, 35, 35, 35),\n",
    "     'intercalation': False}\n",
    "     \n",
    "`intercalation: False` has a slightly different meaning in the case of prytanies. Since whether a year is intercalary or not affects the _lengths_ of prytanies rather thatn their _number_, `intercalation: False` means the year must be intercalary, whether or not the intercalation falls before or after prytany VIII. DOY 253 is the result of 36- and 35-day prytanies, if the year is intercalary, they would be 39 and 38 days such as we have the DOY 277 solution\n",
    "\n",
    "    {'date': (<Prytanies.VIII: 8>, 7),\n",
    "     'doy': 277,\n",
    "     'preceding': (39, 39, 39, 39, 38, 38, 38),\n",
    "     'intercalation': True}\n",
    "     \n",
    "As with `festival_doy()`, the list of prytany lengths in `preceding` is a _count_ only. Each kind of conciliar year is made up of a certain number of long and short prytanies—such as four long and six short in 10-prytany years—`prytany_doy()` will not return impossible results.\n",
    "\n",
    "Our results for prytany VIII 7 show that it can fall in the ranges DOY 253–256 (ordinary) or 274–277 (intercalary)"
   ]
  },
  {
   "cell_type": "markdown",
   "metadata": {},
   "source": [
    "### `equations()`\n",
    "\n",
    "A quick mental calculation will tell us that the two together are restricted to \"solutions\" in the range DOY 254-DOY 256, but `heniautos` will do the calculation for us with `equations()`. This function takes a tuple for the festival date, a tuple for the prytany date and, like `prytany_doy()` you must specify a prytany type or `Prytany.AUTO` with a year."
   ]
  },
  {
   "cell_type": "code",
   "execution_count": 5,
   "metadata": {},
   "outputs": [
    {
     "data": {
      "text/plain": [
       "(({'date': (<Months.ELA: 9>, 19),\n",
       "   'doy': 254,\n",
       "   'preceding': (30, 30, 30, 29, 29, 29, 29, 29),\n",
       "   'intercalation': False},\n",
       "  {'date': (<Prytanies.VIII: 8>, 7),\n",
       "   'doy': 254,\n",
       "   'preceding': (36, 36, 35, 35, 35, 35, 35),\n",
       "   'intercalation': False}),\n",
       " ({'date': (<Months.ELA: 9>, 19),\n",
       "   'doy': 255,\n",
       "   'preceding': (30, 30, 30, 30, 29, 29, 29, 29),\n",
       "   'intercalation': False},\n",
       "  {'date': (<Prytanies.VIII: 8>, 7),\n",
       "   'doy': 255,\n",
       "   'preceding': (36, 36, 36, 35, 35, 35, 35),\n",
       "   'intercalation': False}),\n",
       " ({'date': (<Months.ELA: 9>, 19),\n",
       "   'doy': 256,\n",
       "   'preceding': (30, 30, 30, 30, 30, 29, 29, 29),\n",
       "   'intercalation': False},\n",
       "  {'date': (<Prytanies.VIII: 8>, 7),\n",
       "   'doy': 256,\n",
       "   'preceding': (36, 36, 36, 36, 35, 35, 35),\n",
       "   'intercalation': False}))"
      ]
     },
     "execution_count": 5,
     "metadata": {},
     "output_type": "execute_result"
    }
   ],
   "source": [
    "ha.equations((ha.Months.ELA, 19), (ha.Prytanies.VIII, 7), pryt_type=ha.Prytany.ALIGNED_10)"
   ]
  },
  {
   "cell_type": "markdown",
   "metadata": {},
   "source": [
    "This narrows the possibilities. To satisfy the equation, Elaphēboliṓn can only be preceded by 3–5 full months, prytany VIII by 2–4 long, 36-day prytanies and the year cannot be intercalary.\n",
    "\n",
    "We can compare this to how `heniautos` calculates the year. It is important remember that `heniautos` only characterizes what the year _might have been_ if it followed a simplified version of astronomical observations. We can use the calendar equations to see how close `heniautos` comes to the historical evidence and use `heniautos` as a framework to help us see what the the equations tell us about the calendar.\n",
    "\n",
    "For IG II³ 345 `equations` gave us possibilities from DOY 254 to DOY 256, with Elaphēboliṓn preceded by 3-5 full months and 2 to 4 long prytanies in a normal year. \n",
    "\n",
    "What does `heniautos` give for this year (332/1)?"
   ]
  },
  {
   "cell_type": "code",
   "execution_count": 18,
   "metadata": {},
   "outputs": [
    {
     "name": "stdout",
     "output_type": "stream",
     "text": [
      " 1 | Hekatombaiṓn | BCE 0332-Jul-21 | 30\n",
      " 2 | Metageitniṓn | BCE 0332-Aug-20 | 30\n",
      " 3 | Boēdromiṓn   | BCE 0332-Sep-19 | 29\n",
      " 4 | Puanepsiṓn   | BCE 0332-Oct-18 | 30\n",
      " 5 | Maimaktēriṓn | BCE 0332-Nov-17 | 29\n",
      " 6 | Poseidēiṓn   | BCE 0332-Dec-16 | 30\n",
      " 7 | Gamēliṓn     | BCE 0331-Jan-15 | 29\n",
      " 8 | Anthestēriṓn | BCE 0331-Feb-13 | 30\n",
      " 9 | Elaphēboliṓn | BCE 0331-Mar-15 | 29\n",
      "10 | Mounuchiṓn   | BCE 0331-Apr-13 | 29\n",
      "11 | Thargēliṓn   | BCE 0331-May-12 | 30\n",
      "12 | Skirophoriṓn | BCE 0331-Jun-11 | 29\n"
     ]
    }
   ],
   "source": [
    "for i, month in enumerate(ha.festival_calendar(ha.bce_as_negative(332)), 1):\n",
    "    print(f\"{i:>2} | {month['month']:12} | \"\n",
    "          f\"{ha.as_eet(month['days'][0]['date'])} | {len(month['days'])}\" )"
   ]
  },
  {
   "cell_type": "markdown",
   "metadata": {},
   "source": [
    "Based on the new moons for this year, `heniautos` generates an ordinary year, in which Elaphēboliṓn is indeed preceded by five full months (Hek, Met, Pua, Pos, and Anth), which matches the DOY 256 solution for IG II³ 345.\n",
    "\n",
    "The conciliar calendar matches this solution as well with four 36-day prytanies preceding prytany VIII."
   ]
  },
  {
   "cell_type": "code",
   "execution_count": 13,
   "metadata": {},
   "outputs": [
    {
     "name": "stdout",
     "output_type": "stream",
     "text": [
      " 1 |  1 | BCE 0332-Jul-21 | 36\n",
      " 2 |  2 | BCE 0332-Aug-26 | 36\n",
      " 3 |  3 | BCE 0332-Oct-01 | 36\n",
      " 4 |  4 | BCE 0332-Nov-06 | 36\n",
      " 5 |  5 | BCE 0332-Dec-12 | 35\n",
      " 6 |  6 | BCE 0331-Jan-16 | 35\n",
      " 7 |  7 | BCE 0331-Feb-20 | 35\n",
      " 8 |  8 | BCE 0331-Mar-27 | 35\n",
      " 9 |  9 | BCE 0331-May-01 | 35\n",
      "10 | 10 | BCE 0331-Jun-05 | 35\n"
     ]
    }
   ],
   "source": [
    "for i, pryt in enumerate(ha.prytany_calendar(ha.bce_as_negative(332)), 1):\n",
    "    print(f\"{i:>2} | {pryt['prytany']:>2} | \"\n",
    "          f\"{ha.as_eet(pryt['days'][0]['date'])} | {len(pryt['days'])}\")"
   ]
  },
  {
   "cell_type": "markdown",
   "metadata": {},
   "source": [
    "`heniautos` generates conciliar calendars that observe the Rule of Aristotle, placing all the long prytanies first. While this is likely to be true, the calendar equation supports any arrangement as long as four of the the first seven are 36 days long."
   ]
  },
  {
   "cell_type": "markdown",
   "metadata": {},
   "source": [
    "## Visualizing Calendar Equations\n",
    "\n",
    "It may help to visualize the arrangment of full and hollow months, long and short prytanies so that we can diagram potential solutions to calendar equations. In the diagrams below, The first row of each pair represents the 12-month festival year, and the second the ten month conciliar year. full months/long prytanies are represented by darker, green boxes and hollow/short by lighter, beige boxes.  \n",
    "\n",
    "The first diagram shows an \"ideal\" year according to most rigid conception: perfectly alternating full and hollow months, the conciliar year beginning with all 4 long prytanies. The second diagram shows a \"schematic\" view that is only concerned with the _counts_ of months rather than their arrangement. The festival year starts with five green boxes because there are at least five full months in the year, likewise for the next five beige boxes for the minimum count of five hollow months. The last two boxes are empty because we cannot, in fact, say what they are. If one is full and one hollow, we have an ideal 354-day year. But some years could be 353 days long (both hollow) and some 355 (both full). These last two months, schematically, are wildcards. The conciliar year has no wildcards because they were always 4 long and 6 short. The schematic representation of the conciliar year happens to follow the Rule of Aristotle. but that is just a coincidence.\n",
    "\n",
    "\n",
    "<img src=\"examples/ideal.png\" width=\"700\">\n",
    "\n",
    "We can diagram our results for IG II/III³ 1, 345 like this:\n",
    "\n",
    "<img src=\"examples/ig-ii3-345-all.png\" width=\"700\">\n",
    "\n",
    "The dotted line represents the horizon of the calendar equation, which tells us what it can about the first eight months of the year (preceding Elaphēboliṓn) and the first seven prytanies (preceding prytany VIII). The months before Elaphēboliṓn, to the left of the dotted line, are the months that must satisfy the equation. The months to the right of the dotted line, with hash marks, are the remaining, unknown months. We can deduce the lengths of some of the unknown months from the known. For instance any normal year has _at least_ five full months as well as five hollow months. In first diagram, DOY 253, only two of the known months are full so at least three of the unknown must be full. Since there are already six known hollow months and the maximum is sevem, the last month is a wildcard. The conciliar year must have four long prytanties; since there is only 1 long prytany to the left of the dotted line, the remaining three have to all be long. The diagrams make it easy to see that only one solution satisfies the Rule of Aristotle, DOY 256, if we believe that that is important.\n",
    "\n",
    "Using these diagrams we can illustrate how one of these solutions matches an \"ideal\" festival year. Of the first eight months of an ideal year, four must be full and four hollow. Only one solution matches this, DOY 255. Remember, the schematic diagrams do not show an arrangement but only a count of months before and after the equation. We can rearrange the schematic months to match the ideal.\n",
    "\n",
    "<img src=\"examples/ig-ii3-345-ideal.png\" width=\"700\">\n",
    "\n",
    "For the solution to be a perfect match, it is important that no arrow cross the dotted line. Because `heniautos` calculates that _five_ of the first eight months were full, we cannot match the schematic diagram for DOY 255 to one representing `heniautos`' arrangement of months. With the wildcards we can make the counts work, but the arrow connecting the last full month on each will cross the line, indicating that it does not satisfy the equation:\n",
    "\n",
    "<img src=\"examples/ig-ii3-345-doy-255-heniautos.png\" width=\"700\">\n",
    "\n",
    "We can however match up `heniautos`' calculated year with the DOY 256 solution:\n",
    "\n",
    "<img src=\"examples/ig-ii3-345-doy-256-heniautos.png\" width=\"700\">\n",
    "\n",
    "With the aid of the daigrams we can see that if we insist on an ideal arrangement of alternating months, we can have *Elaphēboliṓn 19 = Prytany VIII 7 = DOY 255* as long as we give up the Rule of Aristotle. If we want the Rule of Aristotle we can have *Elaphēboliṓn 19 = Prytany VIII 7 = DOY 256*, which _also_ matches possible observations of the full moon. `heniautos` can give us its Julian date for this Elaphēboliṓn 19:"
   ]
  },
  {
   "cell_type": "code",
   "execution_count": 5,
   "metadata": {},
   "outputs": [
    {
     "data": {
      "text/plain": [
       "'BCE 0331-Apr-02'"
      ]
     },
     "execution_count": 5,
     "metadata": {},
     "output_type": "execute_result"
    }
   ],
   "source": [
    "ha.as_eet(ha.find_date(ha.bce_as_negative(332), ha.Months.ELA, 19)[\"date\"])"
   ]
  },
  {
   "cell_type": "markdown",
   "metadata": {},
   "source": [
    "So we can fill out an extended equation:\n",
    "\n",
    "    Elaphēboliṓn 19 = Prytany VIII 7 = DOY 256 = April 2, 331 BCE"
   ]
  },
  {
   "cell_type": "markdown",
   "metadata": {},
   "source": [
    "## Multiple Equations\n",
    "\n",
    "[IG II/III³ 1, 348](http://telota.bbaw.de/ig/digitale-edition/inschrift/IG%20II_III%C2%B3%201,%20348), from the same year (ἐπὶ Νικήτου ἄρχοντος) has very clear dates:\n",
    "\n",
    "    ἐπὶ Νικήτου ἄρχοντος, ἐπὶ τῆς Ἐρεχθη–\n",
    "    ίδος ἐνάτης πρυτανείας, ἧι Ἀριστόνο–\n",
    "    υς Ἀριστόνου Ἀναγυράσιος ἐγραμμάτ–\n",
    "    ευεν· Θαργηλιῶνος ἑνδεκάτει· τρίτηι\n",
    "    καὶ εἰκοστῆι τῆς πρυτανείας\n",
    "    \n",
    "and gives us this calendar equation:\n",
    "\n",
    "    Thargēliṓn 11 = Prytany IX.23\n",
    "    \n",
    "which has three solutions:\n",
    "\n",
    "<img src=\"examples/ig-ii3-348.png\" width=\"700\">"
   ]
  },
  {
   "cell_type": "markdown",
   "metadata": {},
   "source": [
    "All the solutions require a normal year, so this is generally in agreement with our solutions for IG II³ 345. Can we combine the two equations more specifically? With 4 solutions for the first and 3 for the second there 12 possible combinations, but to be a valid combination the equation for the earlier part of the year must partially satisfy that for the later part of the year. Only 6 of the possible combinations are valid in this way (scripts for performing these calculations and creating these charts are in the `examples` directory of the repository)\n",
    "\n",
    "<img src=\"examples/ig-ii3-345-348-combo.png\" width=\"700\">\n",
    "\n",
    "As an example, DOY 255 which requires 4 full and 4 hollow months, can be combined with DOY 306 which requires 5 full and 5 hollow months. We \"subtract\" DOY 255 from DOY 306, so that together they are (4 full + 4 hollow ) + (1 full + 1 hollow). We can still match this combined solution with an \"ideal\" year of alternating months without crossing either dotted line.\n",
    "\n",
    "<img src=\"examples/ig-ii3-345-348-doy-255-306-solution.png\" width=\"700\">\n",
    "\n",
    "With the extra information from IG II/III³ 1, 348, though, our the `heniautos` solution is no longer adequate.\n",
    "\n",
    "<img src=\"examples/ig-ii3-345-348-doy-256-307-solution.png\" width=\"700\">\n",
    "\n",
    "With only one equation we had two hollow and two wildcard months to work with in the last four months. Now the the second equation requires either either the 9th or the 10th month to be full while `heniautos` calculates them both as hollow, we have arrows crossing the dotted lines. "
   ]
  },
  {
   "cell_type": "markdown",
   "metadata": {},
   "source": [
    "## Making Adjustments\n",
    "\n",
    "`heniautos` cannot and does not aim to generate historically _accurate_ calendars, just historically _possible_ or maybe even _probable_ calendars if its simplified \"observations\" are close to what the Athenians might have made. It may serve as a framework to help make truly historical reconstructions where there is other evidence. What can we do with the two equations from IG II³ 345 and IG II³ 348?\n",
    "\n",
    "Again, it is important to keep in mind that schematic representation communicates the _count_ not to exact _arrangement_ of months. There is no particular reason to put all the full months first and the hollow second. Within the bounds of the equations, we can move the schematic months around however we need to. If we switch the full and hollow 9th and 10th month, that brings us a little closer to `heniautos`' calculation. The count is the same: one full and one hollow in months 9 and 10.\n",
    "\n",
    "<img src=\"examples/ig-ii3-345-348-doy-256-307-rearr.png\" width=\"700\">\n",
    "\n",
    "Turning to `heniautos`, Mounuchiṓn is hollow and Thargēliṓn is full. The new moon at the beginning of Thargēliṓn is \"observed\" on May 12 but, as we have said before, these dates are probably accurate to within about a day. It is within this margin of error to make May 13 the beginning of Thargēliṓn. This change of one day makes Mounuchiṓn full and Thargēliṓn which \"uncrosses\" the lines on the diagram. This adjustment is represented on the diagram by the reciprocal arrows within the boxes of the 10th and 11th months.\n",
    "\n",
    "<img src=\"examples/ig-ii3-345-348-doy-256-307-adj.png\" width=\"700\">\n",
    "\n",
    "The adjustment has no effect outside these two months, and none of this has any effect on the prytanies. Mounuchiṓn still begins on April 13, and Thargēliṓn still ends on June 10. Nor does it affect the basic equation if we want to stay as close as possible to the \"observed\" new moons, and preserve the Rule of Aristotle\n",
    "\n",
    "    Thargēliṓn 11 = Prytany IX.23 = DOY 306\n",
    "    \n",
    "Without the adjustment, DOY 306 would have been May 22."
   ]
  },
  {
   "cell_type": "code",
   "execution_count": 8,
   "metadata": {},
   "outputs": [
    {
     "name": "stdout",
     "output_type": "stream",
     "text": [
      "DOY: 306\n",
      "Date: BCE 0331-May-22\n"
     ]
    }
   ],
   "source": [
    "date = ha.find_date(ha.bce_as_negative(332), ha.Months.THA, 11)\n",
    "print(\"DOY:\", date[\"doy\"])\n",
    "print(\"Date:\", ha.as_eet(date[\"date\"]))"
   ]
  },
  {
   "cell_type": "markdown",
   "metadata": {},
   "source": [
    "With the adjustment, since Thargēliṓn starts one day later, the equation will be:\n",
    "\n",
    "    Thargēliṓn 11 = Prytany IX.23 = DOY 306 = May 23, 331 BCE \n",
    "    \n",
    "If we do not think it is important to observe the Rule of Aristotle, then the equation that worked with the \"ideal\" year, DOY 355 + DOY 306, is also possible with one adjustment.\n",
    "\n",
    "<img src=\"examples/ig-ii3-345-348-doy-255-306-rearr.png\" width=\"700\">\n",
    "\n",
    "Here we have adjusted the first day of Elaphēboliṓn, moving it from March 15 to March 14 to make Anthestēriṓn hollow and Elaphēboliṓn full."
   ]
  },
  {
   "cell_type": "code",
   "execution_count": null,
   "metadata": {},
   "outputs": [],
   "source": [
    "ha.equations((ha.Months.THA, 11), (ha.Prytanies.IX, 23), pryt_type=ha.Prytany.ALIGNED_10)"
   ]
  },
  {
   "cell_type": "markdown",
   "metadata": {},
   "source": [
    "\n",
    "[IG II/III³ 1, 331](http://telota.bbaw.de/ig/digitale-edition/inschrift/IG%20II_III%C2%B3%201,%20331) is more fragmentary, but what remains is enough for certainty:\n",
    "\n",
    "    [ἐπὶ Εὐαι]ν̣έτου ἄρχοντος, ἐπὶ [τῆ]–\n",
    "    [ς Ἀντι]οχίδος δεκάτης πρυτα[νε]–\n",
    "    [ίας, ἧι] Πρόξενος Πυλαγόρου [Ἀχε]–\n",
    "    [ρδούσ]ιος ἐγραμμάτευεν· Σ[κιρο]–\n",
    "    [φορι]ῶνος ὀγδόηι ἐπὶ δέκα· τρ̣[ίτ]–\n",
    "    [ηι κ]αὶ εἰκοστῆι τῆς πρυταν̣ε̣[ία]–\n",
    "    [ς· \n",
    "    \n",
    "The equation is\n",
    "\n",
    "    Skirophoriṓn 18 = Prytany X.23"
   ]
  },
  {
   "cell_type": "code",
   "execution_count": null,
   "metadata": {},
   "outputs": [],
   "source": [
    "ha.equations((ha.Months.SKI, 18), (ha.Prytanies.X, 23), pryt_type=ha.Prytany.ALIGNED_10)"
   ]
  },
  {
   "cell_type": "markdown",
   "metadata": {},
   "source": [
    "The equation has only one valid \"solution\":\n",
    "\n",
    "    Skirophoriṓn 18 = Prytany X.23 = DOY 342\n",
    "    \n",
    "This requires Skirophoriṓn to be preceded by 5 full and 6 hollow months--(5 × 30) + (6 × 29) + 18 = 342. The conciliar date needs to be preceded by 4 36-day and 5 35-day prytanoes--(4 × 36) + (5 × 35) + 23 = 342--meaning it is not an intercalary year. There are no other combinations that have the same DOY while also satisfying other requirements (for example, since this is the 10th prytany at least 3 and at most 4 long prytanies can preceded it)"
   ]
  },
  {
   "cell_type": "code",
   "execution_count": null,
   "metadata": {},
   "outputs": [],
   "source": [
    "for i, month in enumerate(ha.festival_calendar(ha.bce_as_negative(332)), 1):\n",
    "    print(f\"{i:>2} | {month['month']:12} | {ha.as_eet(month['days'][0]['date'])} | {len(month['days'])}\" )"
   ]
  },
  {
   "cell_type": "markdown",
   "metadata": {},
   "source": [
    "IG II/III³ 1, 375\n",
    "IG II/III³ 1, 376\n",
    "IG II/III³ 1, 378"
   ]
  },
  {
   "cell_type": "code",
   "execution_count": null,
   "metadata": {},
   "outputs": [],
   "source": [
    "ha.equations((ha.Months.PUA, 18), (ha.Prytanies.III, 36), pryt_type=ha.Prytany.ALIGNED_10)"
   ]
  },
  {
   "cell_type": "code",
   "execution_count": null,
   "metadata": {},
   "outputs": [],
   "source": [
    "for i, month in enumerate(ha.festival_calendar(ha.bce_as_negative(323)), 1):\n",
    "    print(f\"{i:>2} | {month['month']:12} | {ha.as_eet(month['days'][0]['date'])} | {len(month['days'])}\" )"
   ]
  },
  {
   "cell_type": "markdown",
   "metadata": {},
   "source": [
    "The most concrete scholarship relating to the ancient Athenian calendar involves \"calendar equations.\" Inscriptions that allow us to connect a festival date with a conciliar date give us clues to the nature of the calendar and can help us establish intercalations. `heniautos` has features that can help explore these calendar equations."
   ]
  },
  {
   "cell_type": "markdown",
   "metadata": {},
   "source": [
    "## [IG II/III³ 1, 1292](http://telota.bbaw.de/ig/digitale-edition/inschrift/IG%20II_III%C2%B3%201,%201292)\n",
    "\n",
    "Pritchett and Neugebauer (1947) 16 use this inscription as evidence of their interpretation of dates κατ' ἄρχοντα \"according to the árkhōn\" and κατὰ θεὸν \"according to the heavens\".   \n",
    "\n",
    "    ἐπὶ Χαρικλέους ἄρχοντος, ἐπὶ τῆς Αἰγεῖδος ἐνάτης πρυτανείας, ἧι\n",
    "    Αἰσχρίων Εὐαινέτου Ῥαμνούσιος ἐγραμμάτευεν· δήμου ψηφίσματα·\n",
    "    Ἐλαφηβολιῶνος τρίτει ἐπὶ δέκα, κατὰ θεὸν δὲ ὀγδόει <ἐπὶ δέκα, ὀγδόει> καὶ εἰκοστεῖ\n",
    "    τῆς πρυτανείας· \n",
    "\n",
    "> In the arkhonship of Khariklēs, in the ninth prytany of Aigēis, for which Aiskhríōn son of Euaínetos of Rhamnoûs was secretary; decrees of the people; Elaphēboliṓn 13, 18 according to the heavens, 28th of the prytany.\n",
    "\n",
    "There is one prytany date here, IX 28 (as prytany dates are often written), and two festival dates Elaphēboliṓn 13 or, \"according to the heavens,\" Elaphēboliṓn 18. Pritchett and Neugebauer wish to show that the κατὰ θεὸν dates are dates according to the \"natural\" lunisolar calendar while the κατ' ἄρχοντα dates have been adjusted in some way that is out of alignment with the natural calendar. They work out their calendar equation in this way (the \"_Hesperia_ text\" is Meritt (1936) 419-428 and the reference to Dinsmoor is Dinsmoor \\[1939\\]):\n",
    "\n",
    "> Prytany IX 28 in an intercalary year would correspond to the 284th day. This day, according to the _Hesperia_ text, is to be equated with κ.θ. IX 18; thus κ.θ. IX 1 = 284 - 17 = 267th day of the year, beginning with Hekatombainon 1. Accepting Dinsmoor's Julian date 196 B.C. June 18 we obtain for the 267th day 195 B.C. March 11. This day is one day later that the astronomical new moon; thus the first day of a month κατὰ θεὸν appears to be exactly what one would expect for the first day of a lunar calendar\n",
    "\n",
    "Pritchett and Neugebauer skip a number of steps in their explanation, beginning with their acceptance that the year 196/195 (\"arkhonship of Khariklēs\") is intercalated, then working backwards from Elaphēboliṓn 18 to identify Elaphēboliṓn 1 (267th day) as the day after an astronomical new moon. `heniautos` can help us work out all the steps more explicitly."
   ]
  },
  {
   "cell_type": "markdown",
   "metadata": {},
   "source": [
    "## Finding the DOY (Day of the Year)"
   ]
  },
  {
   "cell_type": "markdown",
   "metadata": {},
   "source": [
    "\"Day of year\" just means what number a day or date is since the beginning of that year. For example, on the Gregorian (and Julian) calendar February 1, coming after January 31, is always the 32nd day of the year. March 1 is usually the DOY 60 (preceded by 31 + 28 = 59 days), but in a leap year it is DOY 61 (preceded by 31 + 29 = 60 days). Every date _after_ February can be one of two days of the year depending on whether the year is a leap year or not.\n",
    "\n",
    "This is more complicated on the Athenian calendar. Metageitniṓn 1 (the first day of the second month) is DOY 30 if Hekatombaiṓn is \"hollow\" (29 days) but DOY 31 if Hekatombaiṓn is full. Boēdromiṓn 1 can be DOY 59, 60, or 61 depending on whether it is preceded by two hollow, one hollow and one full (in either order), or two full months.\n",
    "\n",
    "Then there is intercalation. Metageitniṓn _could be_ the _third_ month  if a month is intercalated before it. Then Metageitniṓn 1 would be DOY 59, 60, or 61 depending on the lengths of the preceding months. Boēdromiṓn would then be the 4th month and Boēdromiṓn 1 could be any of DOY 88-91.\n",
    "\n",
    "`heniautos` provides a function, `festival_doy()` that will calculate all the possible days of the year a Athenian date might have and what conditions must precede it. It takes constant from `ha.Months` and a day."
   ]
  },
  {
   "cell_type": "code",
   "execution_count": null,
   "metadata": {},
   "outputs": [],
   "source": [
    "import heniautos as ha\n",
    "ha.init_data()\n",
    "\n",
    "ha.festival_doy(ha.Months.MET, 1)"
   ]
  },
  {
   "cell_type": "markdown",
   "metadata": {},
   "source": [
    "These results mean that Met 1 is DOY 30 when it is preceded by 0 30-day months and 1 29-day. `'intercalated': False` means that none of the preceding months are an intercalation. Met 1 is DOY 60 when it preceded by 1 30-day and 1 29-day month, and one of those months _has to be an intercalation_ (`'intercalated': True`). Note that `'intercalated': False` does not mean that there is no intercalation in the year, but only none before the particular date. One could follow, but it does not affect the DOY calculation.\n",
    "\n",
    "In actuality, DOY 59 (Met 1 preceded by two hollow months) is almost certainly ruled out. We would expect an intercalated month to be 30 days, so if Metageitniṓn is preceded by an intercalation, one of them _should_ be full. `heniautos` filters out many mathematically possible but practically impossible results, but it does err on the side of generosity, as with Met 1 = DOY 59."
   ]
  },
  {
   "cell_type": "markdown",
   "metadata": {},
   "source": [
    "The trick with calendar equations is to find a date in the festival calendar that is the same DOY as a date on the conciliar year. In the above example we have two dates in Elaphēboliṓn, the 13th and the 18th to work with. What are the possible DOY values for Elaphēboliṓn 13?"
   ]
  },
  {
   "cell_type": "code",
   "execution_count": null,
   "metadata": {},
   "outputs": [],
   "source": [
    "ha.festival_doy(ha.Months.ELA, 13)"
   ]
  },
  {
   "cell_type": "markdown",
   "metadata": {},
   "source": [
    "The first option, DOY 247, can only happen if Elaphēboliṓn is preceded by two full and six hollow months ((30 × 2) + (29 × 6) + 13 =  247). Since Elaphēboliṓn is normally the 9th month, eight preceding months means there can have been no intercalation in this count (`'intercalated': False`). Again, this does not mean there is no intercalation _in the year_ since the intercalation could _follow_ Elaphēboliṓn. \n",
    "\n",
    "The last option, DOY 280, comes from six full and 3 hollow months preceding ((30 × 6) + (29 × 3) + 13 =  280). Since there are 9 preceding months, making Elaphēboliṓn the 10th month in this case, one of the preceding months must be an intercalation (`'intercalated': True`).\n",
    "\n",
    "What about Elaphēboliṓn 18?"
   ]
  },
  {
   "cell_type": "code",
   "execution_count": null,
   "metadata": {
    "scrolled": true
   },
   "outputs": [],
   "source": [
    "ha.festival_doy(ha.Months.ELA, 18)"
   ]
  },
  {
   "cell_type": "markdown",
   "metadata": {},
   "source": [
    "So we have days with ranges within which the dates must fall: Ela 13 = DOY 247-256 and Ela 18 = DOY 282-285.\n",
    "\n",
    "Now we come to the conciliar year. What are the possible DOY values for Prytany IX 28? `festival_doy()` has a companion, `prytany_doy()` for calculating this. It takes a number for the prytany, a number for the day, and a constant from `heniautos.Prytany` for the kind of conciliar year we expect. In 196/195 BCE there were twelve tribes and therefore 12 prytanies and the conciliar year began and ended with the festival year. In `heniautos` terms we want to use `Prytany.ALIGNED_12`."
   ]
  },
  {
   "cell_type": "code",
   "execution_count": null,
   "metadata": {},
   "outputs": [],
   "source": [
    "ha.prytany_doy(ha.Prytanies.IX, 28, pryt_type=ha.Prytany.ALIGNED_12)"
   ]
  },
  {
   "cell_type": "markdown",
   "metadata": {},
   "source": [
    "The result returned by `prytany_doy()` is similar, but intercalation here does mean that the _year_ is intercalated becuase that changes the _lengths_ of the preceding prytanies rather than their _number_ as it does the number of months of the festival calendar. In this period an intercalated year would have twelve 32-day prytanies, while a normal year would have twelve 30- or 29-day prytanies following the lunar months. For this example, all the possible values for the DOY involve eight preceding prytanies. Either they were all 32 days long (DOY 284) or they were some combination of 29 and 30 days (DOY 260-268). \n",
    "\n",
    "Some of these values (such as 8 29-day prytanies) are no more practically possible than they are for the festival calendar but, because there are so many variations of the conciliar calendar along with the unresolved question of the \"Rule of Aristotle\" that `prytany_doy()` does not try to exclude these.\n",
    "\n",
    "Scanning these values will tell us that there is only one possible calendar equation, but `heniautos` provides a function to do it for us. This will find matching options, if they exist:"
   ]
  },
  {
   "cell_type": "code",
   "execution_count": null,
   "metadata": {},
   "outputs": [],
   "source": [
    "ha.equations((ha.Months.ELA, 13), (ha.Prytanies.IX, 28), pryt_type=ha.Prytany.ALIGNED_12)"
   ]
  },
  {
   "cell_type": "code",
   "execution_count": null,
   "metadata": {},
   "outputs": [],
   "source": [
    "ha.equations((ha.Months.ELA, 18), (ha.Prytanies.IX, 28), pryt_type=ha.Prytany.ALIGNED_12)"
   ]
  },
  {
   "cell_type": "markdown",
   "metadata": {},
   "source": [
    "`equations()` takes a tuple for the festival date (an `ha.Months` constant and an integer for the day) and a tuple for the prytany date (an `ha.Prytanies` constant and the day). In the examples above we have also specified a `pryt_type` as with `prytany_doy()`."
   ]
  },
  {
   "cell_type": "markdown",
   "metadata": {},
   "source": [
    "This confirms Pritchett and Neugebauer. There is no solution that satisfies the equation:\n",
    "\n",
    "    Elaphēboliṓn 13 = Prytany IX 28\n",
    "    \n",
    "That is, there is no possible DOY value for this festival calendar date that matches any possible DOY values for this conciliar year date. For Elaphēboliṓn 18, though, there is exactly one solution\n",
    "\n",
    "    Elaphēboliṓn 18 = Prytany IX 28 = DOY 284\n",
    "    \n",
    "The κατὰ θεὸν date does match a \"natural\" date of the lunisolar calendar. The κατ' ἄρχοντα date must indicate an earlier manipulation of the calendar (for what reason we can't say) that caused the \"official\" Elaphēboliṓn to start 5 days later than the astronomical.\n",
    "\n",
    "Furthermore, our solution specifies that it be an intercalated year, that the intercalation occur before Elaphēboliṓn, and that Elaphēboliṓn be preceded by 5 full and 4 hollow months. How does this compare to the festival year as calculated by `heniautos`? Meritt (1936) and Pritchett and Neugebauer (1947) date the arkhonship of Khariklēs to 196/195 BCE:"
   ]
  },
  {
   "cell_type": "code",
   "execution_count": null,
   "metadata": {},
   "outputs": [],
   "source": [
    "for i, month in enumerate(ha.festival_calendar(ha.bce_as_negative(196)), 1):\n",
    "    print(f\"{i:>2} | {month['month']:12} | {ha.as_eet(month['days'][0]['date'])} | {len(month['days'])}\" )"
   ]
  },
  {
   "cell_type": "markdown",
   "metadata": {},
   "source": [
    "Not so good. According to `heniautos`' calculations, 196/195 is _not_ an intercalary year and cannot satisfy any calendar equation where Prytany IX 28 = DOY 284. There are three main possiblities: 1) `heniautos`' calculations are wrong, 2) `heniautos` calculations are \"right\" but do not match the historical calculations or manipulations made by the Athenians of the 2nd century BCE, 3) the year is wrong.\n",
    "\n",
    "In this case, actually, the year is not so certain. Khariklēs is now generally dated to 184/183:"
   ]
  },
  {
   "cell_type": "code",
   "execution_count": null,
   "metadata": {},
   "outputs": [],
   "source": [
    "for i, month in enumerate(ha.festival_calendar(ha.bce_as_negative(184)), 1):\n",
    "    print(f\"{i:>2} | {month['month']:19} | {ha.as_eet(month['days'][0]['date'])} | {len(month['days'])}\" )"
   ]
  },
  {
   "cell_type": "markdown",
   "metadata": {},
   "source": [
    "Better at first glance since we have an intercalary year. However, this Elaphēboliṓn is preceded by 4 full and 5 hollow months and we were expecting the reverse, 5 full and 4 hollow. If we look at Elaphēboliṓn itself, according to `heniautos`, the 18th is DOY 283 not 284."
   ]
  },
  {
   "cell_type": "code",
   "execution_count": null,
   "metadata": {},
   "outputs": [],
   "source": [
    "for d in ha.festival_calendar(ha.bce_as_negative(184))[9][\"days\"]:\n",
    "    print(f\"Ela {d['day']:>2} | {ha.as_eet(d['date'])} | {d['doy']}\")"
   ]
  },
  {
   "cell_type": "markdown",
   "metadata": {},
   "source": [
    "Still it is only one day's difference. Given the uncertainty in how well these astronomically-based calculations match with the real, historical observations we might satisfy ourselves that this is close enough.\n",
    "\n",
    "There is still one more possibility, though. The date of Khariklēs' arkhonship is not certain. Knoepfler (2015) would place it instead in 200/199. The editors of AIO (n.d.) give both dates for this arkhonship because \"At present there seem to be no decisive arguments and we therefore leave both possibilities open.\"\n",
    "\n",
    "What does `heniautos` say for 200/199 BCE?"
   ]
  },
  {
   "cell_type": "code",
   "execution_count": null,
   "metadata": {},
   "outputs": [],
   "source": [
    "for i, month in enumerate(ha.festival_calendar(ha.bce_as_negative(200)), 1):\n",
    "    print(f\"{i:>2} | {month['month']:19} | {ha.as_eet(month['days'][0]['date'])} | {len(month['days'])}\" )"
   ]
  },
  {
   "cell_type": "markdown",
   "metadata": {},
   "source": [
    "We have an intercalary year and this Elaphēboliṓn is preceded by 5 full and 4 hollow months, exactly what we are looking for. This Elaphēboliṓn 18 is DOY 284"
   ]
  },
  {
   "cell_type": "code",
   "execution_count": null,
   "metadata": {},
   "outputs": [],
   "source": [
    "for d in ha.festival_calendar(ha.bce_as_negative(200))[9][\"days\"]:\n",
    "    print(f\"Ela {d['day']:>2} | {ha.as_eet(d['date'])} | {d['doy']}\")"
   ]
  },
  {
   "cell_type": "markdown",
   "metadata": {},
   "source": [
    "Now we have an exact calendar equation:\n",
    "\n",
    "    Elaphēboliṓn 18 = Prytany IX 28 = DOY 284 = BCE 0199-Apr-11\n",
    "    \n",
    "I would not go as far as saying that this proves that Khariklēs was arkhon in 200/199 but it is an interesting bit of evidence."
   ]
  },
  {
   "cell_type": "code",
   "execution_count": null,
   "metadata": {},
   "outputs": [],
   "source": []
  },
  {
   "cell_type": "markdown",
   "metadata": {},
   "source": [
    "## `festival_doy()` and `prytany_doy()` in Detail"
   ]
  },
  {
   "cell_type": "markdown",
   "metadata": {},
   "source": [
    "As mentioned above, `festival_doy()` excluded less probable DOY values based on the mechanics of the lunar cycles. `heniautos` rarely generates 4 months of the same length, either hollow or full, in row and does not seem to ever generate 5. Given five months, the maximum difference between the number of each will be 3 (e.g. FFFFh = a difference of 3). With 6 months sequences like FFFFhF, with a difference of 4, are possible but no greater difference seems to occur.\n",
    "\n",
    "The default behavior, then, is for `festival_doy()` to exclude any combinations of full and hollow months that differ in number by greater than 4. You can choose your own values with the `max_diff` parameter. For example `festival_doy(ha.Months.ELA, 18, max_diff=3)` will return fewer possibilities. Use `festival_doy(ha.Months.ELA, 18, max_diff=0)` to do no filtering at all and return all possibilities.\n",
    "\n",
    "`prytany_doy()` does not do any filtering by default (that is, its default is `max_diff=0`). You can supply `max_diff` if you want.\n",
    "\n",
    "If you give `prytany_doy()` a year and do not specify a `Prytany` constant (see [Choosing-a-Prytany-Variation](Heniautos%20Basics.ipynb#Choosing-a-Prytany-Variation)) it will choose the prytany type based on the year: \n"
   ]
  },
  {
   "cell_type": "code",
   "execution_count": null,
   "metadata": {},
   "outputs": [],
   "source": [
    "ha.prytany_doy(ha.Prytanies.IX, 28, ha.bce_as_negative(200))"
   ]
  },
  {
   "cell_type": "markdown",
   "metadata": {},
   "source": [
    "Otherwise you need to specify the prytany type in the examples above. This is the equivalent of the previous (but you could give a different prytany type of you thought the automatic choice was wrong):"
   ]
  },
  {
   "cell_type": "code",
   "execution_count": null,
   "metadata": {},
   "outputs": [],
   "source": [
    "ha.prytany_doy(ha.Prytanies.IX, 28, pryt_type=ha.Prytany.ALIGNED_12)"
   ]
  },
  {
   "cell_type": "markdown",
   "metadata": {},
   "source": [
    "## Works Cited\n",
    "\n",
    "* Dinsmoor, William Bell. 1939. _The Athenian Archon List in the Light of Recent Discoveries_. New York: Columbia University Press. https://doi.org/10.7312/dins93096.\n",
    "* Knoepfler, D. 2015. “Τὰ τριάκοντα ἔτη. Observations sur le texte, le contenu et la date du décret d’Athènes pour Képhisodoros.” In _Α‬ξων: studies in honor of Ronald S. Stroud_, edited by Angelos P Matthaiou and Nikolaos Papazarkadas, 257–90. Hellēnikē Epigraphikē Hetaireia 17.\n",
    "* Meritt, Benjamin D. 1936. “Greek Inscriptions.” _Hesperia_ 5 (3): 355–430. https://doi.org/10.2307/146623.\n",
    "* Pritchett, W. Kendrick, and O. Neugebauer. 1947. _The Calendars of Athens_. Cambridge: Harvard University Press.\n",
    "* AIO. n.d. “IGII31 1292 Honours for Kephisodoros.” Accessed April 3, 2021. https://www.atticinscriptions.com/inscription/IGII31/1292."
   ]
  },
  {
   "cell_type": "code",
   "execution_count": null,
   "metadata": {},
   "outputs": [],
   "source": [
    "from itertools import zip_longest\n",
    "\n",
    "months = tuple(zip_longest((ha.Months.ELA,), range(11,20), fillvalue=(ha.Months.ELA)))\n",
    "pryts = tuple(zip_longest((ha.Prytanies.VIII,), range(1,11), fillvalue=(ha.Months.ELA)))\n",
    "eq = ha.equations(months, pryts, pryt_type=ha.Prytany.ALIGNED_10)\n",
    "\n",
    "for e in eq:\n",
    "    for f in zip_longest((e[\"doy\"],), e[\"equations\"][\"festival\"], e[\"equations\"][\"conciliar\"], fillvalue=False):\n",
    "        print(f\"{f[0] if f[0] else ''} | {f[1]['date'] if f[1] else ''} | {f[2]['date'] if f[2] else}\")\n",
    "        \n",
    "\n"
   ]
  },
  {
   "cell_type": "code",
   "execution_count": null,
   "metadata": {},
   "outputs": [],
   "source": [
    "#IG II2 546\n",
    "\n",
    "#zip_longest(range(11,20)\n",
    "pryts = [a for b in [tuple(zip_longest((p,), tuple(range(11,20)), fillvalue=p)) \n",
    "                     for p in (ha.Prytanies.VII, ha.Prytanies.VIII, ha.Prytanies.IX)] for a in b]\n",
    "ha.equations((ha.Months.ANT, 21), pryts, pryt_type=ha.Prytany.ALIGNED_10)"
   ]
  },
  {
   "cell_type": "code",
   "execution_count": null,
   "metadata": {},
   "outputs": [],
   "source": []
  }
 ],
 "metadata": {
  "kernelspec": {
   "display_name": "heniautos",
   "language": "python",
   "name": "heniautos"
  },
  "language_info": {
   "codemirror_mode": {
    "name": "ipython",
    "version": 3
   },
   "file_extension": ".py",
   "mimetype": "text/x-python",
   "name": "python",
   "nbconvert_exporter": "python",
   "pygments_lexer": "ipython3",
   "version": "3.9.2"
  }
 },
 "nbformat": 4,
 "nbformat_minor": 4
}
