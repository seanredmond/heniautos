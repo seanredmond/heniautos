{
 "cells": [
  {
   "cell_type": "markdown",
   "metadata": {},
   "source": [
    "# Heniautos Basics"
   ]
  },
  {
   "cell_type": "markdown",
   "metadata": {},
   "source": [
    "## Introduction\n",
    "\n",
    "`heniautos` generates examples of the two calendars that ancient Athenians used side by side. The festival calendar of 12 lunar months (of 29 or 30 days) and the conciliar calendar of 10, 12 or 13 \"prytanies\" depending on the century (these variations are explained below). \n",
    "\n",
    "The festival calendar began on the first full moon after the summer solstice and lasted 354±1 days. Because of the 11-day deficit of the 354 day lunar year relative to the 365 day solar year, about every third year needed to be extended to 384±1 days to bring the two back into alignment. \n",
    "\n",
    "The festival calendar governed religious activities in Athenian life and was similar to those used by other ancient Greek cities. They were all lunisolar like the Athenian though the months had many different names throughout Greece and years began at different times in the solar cycle. The conciliar calendar was unique to Athens and was used for govermental activities of their democracy. It was organized around the rotation of a 50-member standing committee (the _prutaneía_  or \"prytany\") of their 500-member council through the ten tribes into which Athenian citizens were divided."
   ]
  },
  {
   "cell_type": "code",
   "execution_count": 1,
   "metadata": {},
   "outputs": [
    {
     "name": "stdout",
     "output_type": "stream",
     "text": [
      "-404\n"
     ]
    }
   ],
   "source": [
    "import heniautos as ha\n",
    "ha.init_data()\n",
    "\n",
    "# Convert BCE year to correctly offset negative number for calculations\n",
    "# e.g. 405 BCE -> -404\n",
    "year = ha.bce_as_negative(405)\n",
    "print(year)"
   ]
  },
  {
   "cell_type": "code",
   "execution_count": 2,
   "metadata": {},
   "outputs": [
    {
     "data": {
      "text/plain": [
       "12"
      ]
     },
     "execution_count": 2,
     "metadata": {},
     "output_type": "execute_result"
    }
   ],
   "source": [
    "# Get a festival calendar\n",
    "fest = ha.festival_calendar(year)\n",
    "\n",
    "# How many months?\n",
    "len(fest)"
   ]
  },
  {
   "cell_type": "code",
   "execution_count": 3,
   "metadata": {},
   "outputs": [
    {
     "data": {
      "text/plain": [
       "'Hekatombaiṓn'"
      ]
     },
     "execution_count": 3,
     "metadata": {},
     "output_type": "execute_result"
    }
   ],
   "source": [
    "# What's the first month?\n",
    "fest[0][\"month\"]"
   ]
  },
  {
   "cell_type": "code",
   "execution_count": 4,
   "metadata": {},
   "outputs": [
    {
     "data": {
      "text/plain": [
       "30"
      ]
     },
     "execution_count": 4,
     "metadata": {},
     "output_type": "execute_result"
    }
   ],
   "source": [
    "# How many days\n",
    "len(fest[0][\"days\"])"
   ]
  },
  {
   "cell_type": "code",
   "execution_count": 5,
   "metadata": {},
   "outputs": [
    {
     "data": {
      "text/plain": [
       "<Time tt=1573696.0554115667>"
      ]
     },
     "execution_count": 5,
     "metadata": {},
     "output_type": "execute_result"
    }
   ],
   "source": [
    "# What the Julian date of the first day?\n",
    "fest[0][\"days\"][0][\"date\"]"
   ]
  },
  {
   "cell_type": "code",
   "execution_count": 6,
   "metadata": {},
   "outputs": [
    {
     "data": {
      "text/plain": [
       "'BCE 0405-Jul-18'"
      ]
     },
     "execution_count": 6,
     "metadata": {},
     "output_type": "execute_result"
    }
   ],
   "source": [
    "# Okay. What is it for humans?\n",
    "ha.as_gmt(fest[0][\"days\"][0][\"date\"])"
   ]
  },
  {
   "cell_type": "code",
   "execution_count": 7,
   "metadata": {},
   "outputs": [
    {
     "data": {
      "text/plain": [
       "10"
      ]
     },
     "execution_count": 7,
     "metadata": {},
     "output_type": "execute_result"
    }
   ],
   "source": [
    "# And there's a second kind of year, right?\n",
    "conciliar = ha.prytany_calendar(year)\n",
    "\n",
    "# I might not know what a \"prytany\" is yet, but how many are there?\n",
    "len(conciliar)"
   ]
  },
  {
   "cell_type": "code",
   "execution_count": 8,
   "metadata": {},
   "outputs": [
    {
     "data": {
      "text/plain": [
       "1"
      ]
     },
     "execution_count": 8,
     "metadata": {},
     "output_type": "execute_result"
    }
   ],
   "source": [
    "# What's the first one called?\n",
    "conciliar[0][\"prytany\"]"
   ]
  },
  {
   "cell_type": "code",
   "execution_count": 9,
   "metadata": {},
   "outputs": [
    {
     "data": {
      "text/plain": [
       "36"
      ]
     },
     "execution_count": 9,
     "metadata": {},
     "output_type": "execute_result"
    }
   ],
   "source": [
    "# Exciting. How long is it?\n",
    "len(conciliar[0][\"days\"])"
   ]
  },
  {
   "cell_type": "code",
   "execution_count": 10,
   "metadata": {},
   "outputs": [
    {
     "data": {
      "text/plain": [
       "'BCE 0405-Jul-18'"
      ]
     },
     "execution_count": 10,
     "metadata": {},
     "output_type": "execute_result"
    }
   ],
   "source": [
    "# When does it start, as a Julian date\n",
    "ha.as_gmt(conciliar[0][\"days\"][0][\"date\"])"
   ]
  },
  {
   "cell_type": "code",
   "execution_count": 11,
   "metadata": {},
   "outputs": [
    {
     "name": "stdout",
     "output_type": "stream",
     "text": [
      "Festival Calendar 405 BCE\n",
      " # | Month        | Starts          | Ends            | Days\n",
      "------------------------------------------------------------\n",
      " 1 | Hekatombaiṓn | BCE 0405-Jul-18 | BCE 0405-Aug-16 | 30\n",
      " 2 | Metageitniṓn | BCE 0405-Aug-17 | BCE 0405-Sep-14 | 29\n",
      " 3 | Boēdromiṓn   | BCE 0405-Sep-15 | BCE 0405-Oct-14 | 30\n",
      " 4 | Puanepsiṓn   | BCE 0405-Oct-15 | BCE 0405-Nov-12 | 29\n",
      " 5 | Maimaktēriṓn | BCE 0405-Nov-13 | BCE 0405-Dec-12 | 30\n",
      " 6 | Poseidēiṓn   | BCE 0405-Dec-13 | BCE 0404-Jan-10 | 29\n",
      " 7 | Gamēliṓn     | BCE 0404-Jan-11 | BCE 0404-Feb-09 | 30\n",
      " 8 | Anthestēriṓn | BCE 0404-Feb-10 | BCE 0404-Mar-10 | 29\n",
      " 9 | Elaphēboliṓn | BCE 0404-Mar-11 | BCE 0404-Apr-09 | 30\n",
      "10 | Mounuchiṓn   | BCE 0404-Apr-10 | BCE 0404-May-08 | 29\n",
      "11 | Thargēliṓn   | BCE 0404-May-09 | BCE 0404-Jun-07 | 30\n",
      "12 | Skirophoriṓn | BCE 0404-Jun-08 | BCE 0404-Jul-07 | 30\n"
     ]
    }
   ],
   "source": [
    "print(\"Festival Calendar 405 BCE\")\n",
    "print(\" # | Month        | Starts          | Ends            | Days\")\n",
    "print(\"-\"*60)\n",
    "for i, month in enumerate(fest, 1):\n",
    "    print(f\"{i:>2} | {month['month']:<12} | {ha.as_eet(month['days'][0]['date'])} | \"\n",
    "          f\"{ha.as_eet(month['days'][-1]['date'])} | {len(month['days'])}\")"
   ]
  },
  {
   "cell_type": "code",
   "execution_count": 12,
   "metadata": {},
   "outputs": [
    {
     "name": "stdout",
     "output_type": "stream",
     "text": [
      "Conciliar Calendar 405 BCE\n",
      "Prytany | Starts          | Ends            | Days\n",
      "-------------------------------------------------------\n",
      "      1 | BCE 0405-Jul-18 | BCE 0405-Aug-22 | 36\n",
      "      2 | BCE 0405-Aug-23 | BCE 0405-Sep-27 | 36\n",
      "      3 | BCE 0405-Sep-28 | BCE 0405-Nov-02 | 36\n",
      "      4 | BCE 0405-Nov-03 | BCE 0405-Dec-08 | 36\n",
      "      5 | BCE 0405-Dec-09 | BCE 0404-Jan-12 | 35\n",
      "      6 | BCE 0404-Jan-13 | BCE 0404-Feb-16 | 35\n",
      "      7 | BCE 0404-Feb-17 | BCE 0404-Mar-23 | 35\n",
      "      8 | BCE 0404-Mar-24 | BCE 0404-Apr-27 | 35\n",
      "      9 | BCE 0404-Apr-28 | BCE 0404-Jun-01 | 35\n",
      "     10 | BCE 0404-Jun-02 | BCE 0404-Jul-07 | 36\n"
     ]
    }
   ],
   "source": [
    "print(\"Conciliar Calendar 405 BCE\")\n",
    "print(\"Prytany | Starts          | Ends            | Days\")\n",
    "print(\"-\"*55)\n",
    "for pryt in conciliar:\n",
    "    print(f\"{pryt['prytany']:>7} | {ha.as_eet(pryt['days'][0]['date'])} |\"\n",
    "          f\" {ha.as_eet(pryt['days'][-1]['date'])} | {len(pryt['days'])}\")"
   ]
  },
  {
   "cell_type": "markdown",
   "metadata": {},
   "source": [
    "## Initializing"
   ]
  },
  {
   "cell_type": "markdown",
   "metadata": {},
   "source": [
    "After you import `heniautos` you must call `init_data()` before you do anything else. This may download a large file, called an \"Ephemeris\" and named `de422.bsp` to your working directory. This is a dependency for calculations made by the [Skyfield](https://rhodesmill.org/skyfield) package used by `heniautos`. If you already have the file and it can be found by `Skyfield` it will not be downloaded again. If you need to, you can provide the exact path to `init_data()` with the `eph` parameter. See the Skyfield documentation, [Planets and their moons: JPL ephemeris files](https://rhodesmill.org/skyfield/planets.html) for more information."
   ]
  },
  {
   "cell_type": "code",
   "execution_count": 13,
   "metadata": {},
   "outputs": [
    {
     "name": "stdout",
     "output_type": "stream",
     "text": [
      "<Time tt=1575501.7962366866>\n",
      "BCE 0400-Jun-28\n"
     ]
    }
   ],
   "source": [
    "import heniautos as ha\n",
    "ha.init_data()\n",
    "\n",
    "year = ha.bce_as_negative(400)\n",
    "print(ha.summer_solstice(year))\n",
    "print(ha.as_eet(ha.summer_solstice(year)))"
   ]
  },
  {
   "cell_type": "markdown",
   "metadata": {},
   "source": [
    "## Years CE and BCE\n",
    "\n",
    "Most `heniautos` operations, like `summer_solstice()` involve a year. For years CE, simply pass an integer"
   ]
  },
  {
   "cell_type": "code",
   "execution_count": 14,
   "metadata": {},
   "outputs": [
    {
     "data": {
      "text/plain": [
       "<Time tt=1867329.9445576237>"
      ]
     },
     "execution_count": 14,
     "metadata": {},
     "output_type": "execute_result"
    }
   ],
   "source": [
    "ha.summer_solstice(400)"
   ]
  },
  {
   "cell_type": "markdown",
   "metadata": {},
   "source": [
    "Years BCE are counted backwards from 1, so that 1 BCE is 0, 2 BCE -1, 3 BCE -2 etc. Therefore, all years BCE are negative (except for 1 BCE) and offset by 1 in the positive direction. To find the summer solstice of 400 BCE, you will need to use -399"
   ]
  },
  {
   "cell_type": "code",
   "execution_count": 15,
   "metadata": {},
   "outputs": [
    {
     "data": {
      "text/plain": [
       "<Time tt=1575501.7962366866>"
      ]
     },
     "execution_count": 15,
     "metadata": {},
     "output_type": "execute_result"
    }
   ],
   "source": [
    "ha.summer_solstice(-399)"
   ]
  },
  {
   "cell_type": "markdown",
   "metadata": {},
   "source": [
    "`bce_as_negative()` will do this math for you:"
   ]
  },
  {
   "cell_type": "code",
   "execution_count": 16,
   "metadata": {},
   "outputs": [
    {
     "data": {
      "text/plain": [
       "<Time tt=1575501.7962366866>"
      ]
     },
     "execution_count": 16,
     "metadata": {},
     "output_type": "execute_result"
    }
   ],
   "source": [
    "ha.summer_solstice(ha.bce_as_negative(400))"
   ]
  },
  {
   "cell_type": "markdown",
   "metadata": {},
   "source": [
    "## Time Objects\n",
    "\n",
    "When dates are returned from `heniautos` functions, they are [Skyfield Time objects](https://rhodesmill.org/skyfield/api.html#time-objects). These store time as a decimal number and represent Julian dates, meaning they are on the Julian calendar extended backwards in time, with leap years but not the Gregorian adjustment of skipping the leap year every 400 years.\n",
    "\n",
    "Skyfield has many functions for manipulating and formatting these, but `heniautos` provides two convenient methods for converting them to strings, `as_gmt()` and `as_eet()`. `as_gmt()` will generate a string version of the Time object with the epoch (\"BCE\" or \"CE\") as if it were Greenwich Mean Time. `as_eet()` does the same, but converting it to Athens' timezone, Eastern European Time, two hours ahead of GMT. Neither of these adjusts for daylight saving times. Each takes a boolean `full` parameter. If false (the default), it only returns the epoch, year, month, and day. If true, it includes the hour, minutes, seconds, and timezone"
   ]
  },
  {
   "cell_type": "code",
   "execution_count": 17,
   "metadata": {},
   "outputs": [
    {
     "name": "stdout",
     "output_type": "stream",
     "text": [
      "BCE 0400-Jun-28\n",
      "BCE 0400-Jun-28 07:05:52 GMT\n",
      "BCE 0400-Jun-28\n",
      "BCE 0400-Jun-28 09:05:52 EET\n"
     ]
    }
   ],
   "source": [
    "s = ha.summer_solstice(ha.bce_as_negative(400))\n",
    "print(ha.as_gmt(s))\n",
    "print(ha.as_gmt(s, full=True)) # or just print(as_gmt(s), True)\n",
    "print(ha.as_eet(s))\n",
    "print(ha.as_eet(s, full=True)) # or just print(as_gmt(s), True)"
   ]
  },
  {
   "cell_type": "markdown",
   "metadata": {},
   "source": [
    "## Astronomical Observations\n",
    "\n",
    "Greek lunisolar calendars depended on observations of the sun (in Athens of the summer solstice) and the new moons throught the year. `heniautos` uses these to make calculations and provides the following functions so that you can see the data that goes into the calendars, as well as get some other information that may be useful."
   ]
  },
  {
   "cell_type": "markdown",
   "metadata": {},
   "source": [
    "### The Sun\n",
    "\n",
    "`summer_solstice()` returns the date and time of the summer solstice of any given year."
   ]
  },
  {
   "cell_type": "code",
   "execution_count": 18,
   "metadata": {},
   "outputs": [
    {
     "data": {
      "text/plain": [
       "'BCE 0400-Jun-28 09:05:52 EET'"
      ]
     },
     "execution_count": 18,
     "metadata": {},
     "output_type": "execute_result"
    }
   ],
   "source": [
    "ha.as_eet(ha.summer_solstice(ha.bce_as_negative(400)), True)"
   ]
  },
  {
   "cell_type": "markdown",
   "metadata": {},
   "source": [
    "Other cities and regions used different events to mark the new year. In Sparta, for instance, it was the Autumn Equinox. `solar_event()` will return any solstice or equinox. It takes a parameter for year, and constant from `Seasons` for the particular event"
   ]
  },
  {
   "cell_type": "code",
   "execution_count": 19,
   "metadata": {},
   "outputs": [
    {
     "data": {
      "text/plain": [
       "[<Seasons.SPRING_EQUINOX: 0>,\n",
       " <Seasons.SUMMER_SOLSTICE: 1>,\n",
       " <Seasons.AUTUMN_EQUINOX: 2>,\n",
       " <Seasons.WINTER_SOLSTICE: 3>]"
      ]
     },
     "execution_count": 19,
     "metadata": {},
     "output_type": "execute_result"
    }
   ],
   "source": [
    "list(ha.Seasons)"
   ]
  },
  {
   "cell_type": "code",
   "execution_count": 20,
   "metadata": {},
   "outputs": [
    {
     "data": {
      "text/plain": [
       "'BCE 0400-Sep-28 12:24:01 EET'"
      ]
     },
     "execution_count": 20,
     "metadata": {},
     "output_type": "execute_result"
    }
   ],
   "source": [
    "ha.as_eet(ha.solar_event(ha.bce_as_negative(400), ha.Seasons.AUTUMN_EQUINOX), True)"
   ]
  },
  {
   "cell_type": "markdown",
   "metadata": {},
   "source": [
    "### The Moon\n",
    "\n",
    "`new_moons()` will return all the new moons in any year:"
   ]
  },
  {
   "cell_type": "code",
   "execution_count": 21,
   "metadata": {},
   "outputs": [
    {
     "data": {
      "text/plain": [
       "['BCE 0400-Jan-26',\n",
       " 'BCE 0400-Feb-24',\n",
       " 'BCE 0400-Mar-26',\n",
       " 'BCE 0400-Apr-24',\n",
       " 'BCE 0400-May-23',\n",
       " 'BCE 0400-Jun-21',\n",
       " 'BCE 0400-Jul-21',\n",
       " 'BCE 0400-Aug-19',\n",
       " 'BCE 0400-Sep-18',\n",
       " 'BCE 0400-Oct-18',\n",
       " 'BCE 0400-Nov-16',\n",
       " 'BCE 0400-Dec-16']"
      ]
     },
     "execution_count": 21,
     "metadata": {},
     "output_type": "execute_result"
    }
   ],
   "source": [
    "[ha.as_eet(nm) for nm in ha.new_moons(ha.bce_as_negative(400))]"
   ]
  },
  {
   "cell_type": "markdown",
   "metadata": {},
   "source": [
    "Like `solar_events()` there is a more generic function, `moon_phases()` that will return one of four phases indicated by constants from `Phases`"
   ]
  },
  {
   "cell_type": "code",
   "execution_count": 22,
   "metadata": {},
   "outputs": [
    {
     "data": {
      "text/plain": [
       "[<Phases.NEW: 0>, <Phases.FIRST_Q: 1>, <Phases.FULL: 2>, <Phases.LAST_Q: 3>]"
      ]
     },
     "execution_count": 22,
     "metadata": {},
     "output_type": "execute_result"
    }
   ],
   "source": [
    "list(ha.Phases)"
   ]
  },
  {
   "cell_type": "code",
   "execution_count": 23,
   "metadata": {},
   "outputs": [
    {
     "data": {
      "text/plain": [
       "['BCE 0400-Jan-10',\n",
       " 'BCE 0400-Feb-09',\n",
       " 'BCE 0400-Mar-10',\n",
       " 'BCE 0400-Apr-09',\n",
       " 'BCE 0400-May-09',\n",
       " 'BCE 0400-Jun-07',\n",
       " 'BCE 0400-Jul-07',\n",
       " 'BCE 0400-Aug-05',\n",
       " 'BCE 0400-Sep-04',\n",
       " 'BCE 0400-Oct-03',\n",
       " 'BCE 0400-Nov-02',\n",
       " 'BCE 0400-Dec-01',\n",
       " 'BCE 0400-Dec-31']"
      ]
     },
     "execution_count": 23,
     "metadata": {},
     "output_type": "execute_result"
    }
   ],
   "source": [
    "[ha.as_eet(nm) for nm in ha.moon_phases(ha.bce_as_negative(400), ha.Phases.FULL)]"
   ]
  },
  {
   "cell_type": "markdown",
   "metadata": {},
   "source": [
    "The dates and times provided by `new_moons()` are based an [astronomical definition of \"new moon\"](https://en.wikipedia.org/wiki/New_moon). This is a moment when the Sun, Earth, and Moon are in a particular configuration (or \"conjunction\"). The moon is not usually visible at this time—in fact, it is only visible when it is causing an eclipse. More important for the calendar is the time when the first sliver of the new crescent is visible. For simplicity `heniautos` treats this, by default, as two days after the astronomical new moon. The _visible_ new moons can be retrieved from `visible_new_moons()`:"
   ]
  },
  {
   "cell_type": "code",
   "execution_count": 24,
   "metadata": {
    "scrolled": true
   },
   "outputs": [
    {
     "name": "stdout",
     "output_type": "stream",
     "text": [
      "Full                         | Visible\n",
      "-----------------------------------------------------------\n",
      "BCE 0400-Jan-26 05:43:10 EET | BCE 0400-Jan-28 05:43:10 EET\n",
      "BCE 0400-Feb-24 17:23:28 EET | BCE 0400-Feb-26 17:23:28 EET\n",
      "BCE 0400-Mar-26 02:24:51 EET | BCE 0400-Mar-28 02:24:51 EET\n",
      "BCE 0400-Apr-24 09:48:18 EET | BCE 0400-Apr-26 09:48:18 EET\n",
      "BCE 0400-May-23 16:39:50 EET | BCE 0400-May-25 16:39:50 EET\n",
      "BCE 0400-Jun-21 23:58:38 EET | BCE 0400-Jun-23 23:58:38 EET\n",
      "BCE 0400-Jul-21 08:36:10 EET | BCE 0400-Jul-23 08:36:10 EET\n",
      "BCE 0400-Aug-19 19:19:48 EET | BCE 0400-Aug-21 19:19:48 EET\n",
      "BCE 0400-Sep-18 08:51:32 EET | BCE 0400-Sep-20 08:51:32 EET\n",
      "BCE 0400-Oct-18 01:31:13 EET | BCE 0400-Oct-20 01:31:13 EET\n",
      "BCE 0400-Nov-16 20:45:22 EET | BCE 0400-Nov-18 20:45:22 EET\n",
      "BCE 0400-Dec-16 16:51:27 EET | BCE 0400-Dec-18 16:51:27 EET\n"
     ]
    }
   ],
   "source": [
    "new_moons = ha.new_moons(ha.bce_as_negative(400))\n",
    "visible_moons = ha.visible_new_moons(ha.bce_as_negative(400))\n",
    "\n",
    "print(f\"{'Full':29}| Visible\")\n",
    "print(\"-\"*59)\n",
    "for nm, vm in zip(new_moons, visible_moons):\n",
    "    print(f\"{ha.as_eet(nm, True)} | {ha.as_eet(vm, True)}\")\n",
    "                                           "
   ]
  },
  {
   "cell_type": "markdown",
   "metadata": {},
   "source": [
    "`visible_new_moons` takes a second parameter, `rule` that can be one of the constant values in `Visible`:"
   ]
  },
  {
   "cell_type": "code",
   "execution_count": 25,
   "metadata": {},
   "outputs": [
    {
     "data": {
      "text/plain": [
       "[<Visible.NEXT_DAY: 0>, <Visible.SECOND_DAY: 1>]"
      ]
     },
     "execution_count": 25,
     "metadata": {},
     "output_type": "execute_result"
    }
   ],
   "source": [
    "list(ha.Visible)"
   ]
  },
  {
   "cell_type": "markdown",
   "metadata": {},
   "source": [
    "`SECOND_DAY` is demonstrated above. To treat the visible moon as occuring _one_ day after the astronomical new moon, user `NEXT_DAY`"
   ]
  },
  {
   "cell_type": "code",
   "execution_count": 26,
   "metadata": {},
   "outputs": [
    {
     "name": "stdout",
     "output_type": "stream",
     "text": [
      "Full                         | Visible (Next Day)\n",
      "-----------------------------------------------------------\n",
      "BCE 0400-Jan-26 05:43:10 EET | BCE 0400-Jan-27 05:43:10 EET\n",
      "BCE 0400-Feb-24 17:23:28 EET | BCE 0400-Feb-25 17:23:28 EET\n",
      "BCE 0400-Mar-26 02:24:51 EET | BCE 0400-Mar-27 02:24:51 EET\n",
      "BCE 0400-Apr-24 09:48:18 EET | BCE 0400-Apr-25 09:48:18 EET\n",
      "BCE 0400-May-23 16:39:50 EET | BCE 0400-May-24 16:39:50 EET\n",
      "BCE 0400-Jun-21 23:58:38 EET | BCE 0400-Jun-22 23:58:38 EET\n",
      "BCE 0400-Jul-21 08:36:10 EET | BCE 0400-Jul-22 08:36:10 EET\n",
      "BCE 0400-Aug-19 19:19:48 EET | BCE 0400-Aug-20 19:19:48 EET\n",
      "BCE 0400-Sep-18 08:51:32 EET | BCE 0400-Sep-19 08:51:32 EET\n",
      "BCE 0400-Oct-18 01:31:13 EET | BCE 0400-Oct-19 01:31:13 EET\n",
      "BCE 0400-Nov-16 20:45:22 EET | BCE 0400-Nov-17 20:45:22 EET\n",
      "BCE 0400-Dec-16 16:51:27 EET | BCE 0400-Dec-17 16:51:27 EET\n"
     ]
    }
   ],
   "source": [
    "new_moons = ha.new_moons(ha.bce_as_negative(400))\n",
    "visible_moons = ha.visible_new_moons(ha.bce_as_negative(400), rule=ha.Visible.NEXT_DAY)\n",
    "\n",
    "print(f\"{'Full':29}| Visible (Next Day)\")\n",
    "print(\"-\"*59)\n",
    "for nm, vm in zip(new_moons, visible_moons):\n",
    "    print(f\"{ha.as_eet(nm, True)} | {ha.as_eet(vm, True)}\")"
   ]
  },
  {
   "cell_type": "markdown",
   "metadata": {},
   "source": [
    "Neither rule is completely correct and both are only approximations."
   ]
  },
  {
   "cell_type": "markdown",
   "metadata": {},
   "source": [
    "## Calendars\n",
    "\n",
    "The main object of `heniautos` is, of course, to generate calendars. `heniautos` can generate examples of the two kinds of calendar in use in Athens, the festival (or \"seasonal\" or \"civil\") calendar of traditional months, and the conciliar (or \"bouletic\") calendar of prytanies.\n",
    "\n",
    "These generated examples are _not_ historically accurate. We don't know how the ancient Greeks made the observations of the sun and moon by which they regulated their calendars. These observations would have been subjective and prone to error (compared to their modern, astronomical definitions). They also seem to have manipulated their calendars for practical reasons that are not apparent in the historical record. Barring such manipulations or errors, dates are probably accurate to within about a day in either direction, with a caveat about intercalation of the festival calendar (see below)"
   ]
  },
  {
   "cell_type": "markdown",
   "metadata": {},
   "source": [
    "### The Festival Calendar\n",
    "\n",
    "The festival calendar consisted of twelve months alternating, more or less between 29 and 30 days each. The Athenian names (and abbreviations for convenience) are provided by the constants `MONTH_NAMES`, `MONTH_NAMES_GK`, and `MONTH_ABBREVS`"
   ]
  },
  {
   "cell_type": "code",
   "execution_count": 27,
   "metadata": {},
   "outputs": [
    {
     "name": "stdout",
     "output_type": "stream",
     "text": [
      " # | Abbr | Name         | Greek\n",
      "----------------------------------------\n",
      " 1 | Hek  | Hekatombaiṓn | Ἑκατομβαιών\n",
      " 2 | Met  | Metageitniṓn | Μεταγειτνιών\n",
      " 3 | Boe  | Boēdromiṓn   | Βοηδρομιών\n",
      " 4 | Pua  | Puanepsiṓn   | Πυανεψιών\n",
      " 5 | Mai  | Maimaktēriṓn | Μαιμακτηριών\n",
      " 6 | Pos  | Poseidēiṓn   | Ποσιδηϊών\n",
      " 7 | Gam  | Gamēliṓn     | Γαμηλιών\n",
      " 8 | Ant  | Anthestēriṓn | Ἀνθεστηριών\n",
      " 9 | Ela  | Elaphēboliṓn | Ἑλαφηβολιών\n",
      "10 | Mou  | Mounuchiṓn   | Μουνυχιών\n",
      "11 | Tha  | Thargēliṓn   | Θαργηλιών\n",
      "12 | Ski  | Skirophoriṓn | Σκιροφοριών\n"
     ]
    }
   ],
   "source": [
    "print(\" # | Abbr | Name         | Greek\")\n",
    "print(\"-\"*40)\n",
    "for i, m in enumerate(zip(ha.MONTH_ABBREVS, ha.MONTH_NAMES, ha.MONTH_NAMES_GK)):\n",
    "    print(f\"{i+1:>2} | {m[0]:4} | {m[1]:12} | {m[2]}\")"
   ]
  },
  {
   "cell_type": "markdown",
   "metadata": {},
   "source": [
    "#### Daily Calendar\n",
    "\n",
    "`festival_calendar()` will generate a full, day by day calendar. "
   ]
  },
  {
   "cell_type": "code",
   "execution_count": 28,
   "metadata": {},
   "outputs": [
    {
     "data": {
      "text/plain": [
       "tuple"
      ]
     },
     "execution_count": 28,
     "metadata": {},
     "output_type": "execute_result"
    }
   ],
   "source": [
    "cal = ha.festival_calendar(ha.bce_as_negative(400))\n",
    "type(cal)"
   ]
  },
  {
   "cell_type": "markdown",
   "metadata": {},
   "source": [
    "It returns a `tuple` in which each item is a `dict` that represents a month. Each of these `dict`s has a `month`,`constant`, and `days` values."
   ]
  },
  {
   "cell_type": "code",
   "execution_count": 29,
   "metadata": {},
   "outputs": [
    {
     "name": "stdout",
     "output_type": "stream",
     "text": [
      "<class 'dict'>\n",
      "dict_keys(['month', 'constant', 'days'])\n"
     ]
    }
   ],
   "source": [
    "print(type(cal[0]))\n",
    "print(cal[0].keys())"
   ]
  },
  {
   "cell_type": "markdown",
   "metadata": {},
   "source": [
    "`days` is a `tuple` in which each item is a `dict` with `day` (day of the month), `date` (Julian date) and `doy` (day of the year) values"
   ]
  },
  {
   "cell_type": "code",
   "execution_count": 30,
   "metadata": {},
   "outputs": [
    {
     "name": "stdout",
     "output_type": "stream",
     "text": [
      "<class 'tuple'>\n",
      "{'day': 1, 'date': <Time tt=1575527.0544859704>, 'doy': 1}\n"
     ]
    }
   ],
   "source": [
    "print(type(cal[0][\"days\"]))\n",
    "print(cal[0][\"days\"][0])"
   ]
  },
  {
   "cell_type": "code",
   "execution_count": 31,
   "metadata": {},
   "outputs": [
    {
     "name": "stdout",
     "output_type": "stream",
     "text": [
      "Hekatombaiṓn\n",
      "Months.HEK\n",
      "{'day': 1, 'date': <Time tt=1575527.0544859704>, 'doy': 1}\n",
      "\n",
      " # | Month        | Constant   | Begins         | Days\n",
      "-------------------------------------------------------\n",
      " 1 | Hekatombaiṓn | Months.HEK | BCE 0400-Jul-23| 29\n",
      " 2 | Metageitniṓn | Months.MET | BCE 0400-Aug-21| 30\n",
      " 3 | Boēdromiṓn   | Months.BOE | BCE 0400-Sep-20| 29\n",
      " 4 | Puanepsiṓn   | Months.PUA | BCE 0400-Oct-19| 30\n",
      " 5 | Maimaktēriṓn | Months.MAI | BCE 0400-Nov-18| 30\n",
      " 6 | Poseidēiṓn   | Months.POS | BCE 0400-Dec-18| 30\n",
      " 7 | Gamēliṓn     | Months.GAM | BCE 0399-Jan-17| 29\n",
      " 8 | Anthestēriṓn | Months.ANT | BCE 0399-Feb-15| 30\n",
      " 9 | Elaphēboliṓn | Months.ELA | BCE 0399-Mar-17| 29\n",
      "10 | Mounuchiṓn   | Months.MOU | BCE 0399-Apr-15| 30\n",
      "11 | Thargēliṓn   | Months.THA | BCE 0399-May-15| 29\n",
      "12 | Skirophoriṓn | Months.SKI | BCE 0399-Jun-13| 29\n",
      "\n",
      "Athenian        | Julian          | DOY\n",
      "----------------------------------------\n",
      "Skirophoriṓn  1 | BCE 0399-Jun-13 | 326\n",
      "Skirophoriṓn  2 | BCE 0399-Jun-14 | 327\n",
      "Skirophoriṓn  3 | BCE 0399-Jun-15 | 328\n",
      "Skirophoriṓn  4 | BCE 0399-Jun-16 | 329\n",
      "Skirophoriṓn  5 | BCE 0399-Jun-17 | 330\n",
      "Skirophoriṓn  6 | BCE 0399-Jun-18 | 331\n",
      "Skirophoriṓn  7 | BCE 0399-Jun-19 | 332\n",
      "Skirophoriṓn  8 | BCE 0399-Jun-20 | 333\n",
      "Skirophoriṓn  9 | BCE 0399-Jun-21 | 334\n",
      "Skirophoriṓn 10 | BCE 0399-Jun-22 | 335\n",
      "Skirophoriṓn 11 | BCE 0399-Jun-23 | 336\n",
      "Skirophoriṓn 12 | BCE 0399-Jun-24 | 337\n",
      "Skirophoriṓn 13 | BCE 0399-Jun-25 | 338\n",
      "Skirophoriṓn 14 | BCE 0399-Jun-26 | 339\n",
      "Skirophoriṓn 15 | BCE 0399-Jun-27 | 340\n",
      "Skirophoriṓn 16 | BCE 0399-Jun-28 | 341\n",
      "Skirophoriṓn 17 | BCE 0399-Jun-29 | 342\n",
      "Skirophoriṓn 18 | BCE 0399-Jun-30 | 343\n",
      "Skirophoriṓn 19 | BCE 0399-Jul-01 | 344\n",
      "Skirophoriṓn 20 | BCE 0399-Jul-02 | 345\n",
      "Skirophoriṓn 21 | BCE 0399-Jul-03 | 346\n",
      "Skirophoriṓn 22 | BCE 0399-Jul-04 | 347\n",
      "Skirophoriṓn 23 | BCE 0399-Jul-05 | 348\n",
      "Skirophoriṓn 24 | BCE 0399-Jul-06 | 349\n",
      "Skirophoriṓn 25 | BCE 0399-Jul-07 | 350\n",
      "Skirophoriṓn 26 | BCE 0399-Jul-08 | 351\n",
      "Skirophoriṓn 27 | BCE 0399-Jul-09 | 352\n",
      "Skirophoriṓn 28 | BCE 0399-Jul-10 | 353\n",
      "Skirophoriṓn 29 | BCE 0399-Jul-11 | 354\n"
     ]
    }
   ],
   "source": [
    "print(cal[0][\"month\"])\n",
    "print(cal[0][\"constant\"])\n",
    "print(cal[0][\"days\"][0])\n",
    "print()\n",
    "\n",
    "# All 12 Months\n",
    "print(\" # | Month        | Constant   | Begins         | Days\")\n",
    "print(\"-\"*55)\n",
    "for i, m in enumerate(cal, 1):\n",
    "    print(f\"{i:>2} | {m['month']:12} | {(m['constant'].__str__())} | \"\n",
    "          f\"{ha.as_eet(m['days'][0]['date'])}| {len(m['days'])}\")\n",
    "print()\n",
    "\n",
    "# Last month of the year\n",
    "print(\"Athenian        | Julian          | DOY\")\n",
    "print(\"-\"*40)\n",
    "for d in cal[-1][\"days\"]:\n",
    "    print(f\"{cal[-1]['month']} {d['day']:>2} | {ha.as_eet(d['date'])} | {d['doy']}\")"
   ]
  },
  {
   "cell_type": "markdown",
   "metadata": {},
   "source": [
    "By default, `month` will be the transliterated version, but can be gotten as abbreviations by passing `abbrev=True` to `festival_calendar()` or as Greek with `greek=True` (`greek` overrides `abbrev`). `constant` is a constant provided by `Months`:"
   ]
  },
  {
   "cell_type": "code",
   "execution_count": 32,
   "metadata": {},
   "outputs": [
    {
     "data": {
      "text/plain": [
       "[<Months.HEK: 0>,\n",
       " <Months.MET: 1>,\n",
       " <Months.BOE: 2>,\n",
       " <Months.PUA: 3>,\n",
       " <Months.MAI: 4>,\n",
       " <Months.POS: 5>,\n",
       " <Months.GAM: 6>,\n",
       " <Months.ANT: 7>,\n",
       " <Months.ELA: 8>,\n",
       " <Months.MOU: 9>,\n",
       " <Months.THA: 10>,\n",
       " <Months.SKI: 11>,\n",
       " <Months.INT: 12>]"
      ]
     },
     "execution_count": 32,
     "metadata": {},
     "output_type": "execute_result"
    }
   ],
   "source": [
    "list(ha.Months)"
   ]
  },
  {
   "cell_type": "markdown",
   "metadata": {},
   "source": [
    "How these are used, as well as the meaning of the special value `INT`, will be seen below."
   ]
  },
  {
   "cell_type": "markdown",
   "metadata": {},
   "source": [
    "#### Intercalations\n",
    "\n",
    "Most Athenian years are 354±1 days long. Since this is too short for the solar year, about every three years there needed to be a thirteen month (making that year to 384±1 days) to bring the year back into alignment with the solstice. This was accomplished by doubling (or \"intercalating\") one of the months. `heniautos` will calculate when this is necessary:"
   ]
  },
  {
   "cell_type": "code",
   "execution_count": 33,
   "metadata": {},
   "outputs": [
    {
     "name": "stdout",
     "output_type": "stream",
     "text": [
      " 1 | Hekatombaiṓn        | Months.HEK | BCE 0401-Jul-04\n",
      " 2 | Metageitniṓn        | Months.MET | BCE 0401-Aug-02\n",
      " 3 | Boēdromiṓn          | Months.BOE | BCE 0401-Sep-01\n",
      " 4 | Puanepsiṓn          | Months.PUA | BCE 0401-Oct-01\n",
      " 5 | Maimaktēriṓn        | Months.MAI | BCE 0401-Oct-30\n",
      " 6 | Poseidēiṓn          | Months.POS | BCE 0401-Nov-29\n",
      " 7 | Poseidēiṓn hústeros | Months.INT | BCE 0401-Dec-29\n",
      " 8 | Gamēliṓn            | Months.GAM | BCE 0400-Jan-27\n",
      " 9 | Anthestēriṓn        | Months.ANT | BCE 0400-Feb-26\n",
      "10 | Elaphēboliṓn        | Months.ELA | BCE 0400-Mar-27\n",
      "11 | Mounuchiṓn          | Months.MOU | BCE 0400-Apr-26\n",
      "12 | Thargēliṓn          | Months.THA | BCE 0400-May-25\n",
      "13 | Skirophoriṓn        | Months.SKI | BCE 0400-Jun-23\n"
     ]
    }
   ],
   "source": [
    "for i, m in enumerate(ha.festival_months(ha.bce_as_negative(401)),1):\n",
    "    print(f\"{i:>2} | {m['month']:19} | {(m['constant'].__str__())} | {ha.as_eet(m['start'])}\")"
   ]
  },
  {
   "cell_type": "markdown",
   "metadata": {},
   "source": [
    "Because the 12th month ends on June 22nd, _before_ the next summer solstice, this year needs to be extended with a 13th month. Poseidēiṓn in intercalated, followed by a second or \"later\" (_hústeros_) Poseidēiṓn. This is the default (it seems to have been the most commonly intercalated month) but any month was possible. To specify a different intercalation supply one of the `Months` constants as the `intercalate` parameter. \n",
    "\n",
    "This example specifies Boēdromiṓn and also gets abbreviations for the month names. With abbreviations, the intercalation is represented by a subscripted \"2\":"
   ]
  },
  {
   "cell_type": "code",
   "execution_count": 34,
   "metadata": {},
   "outputs": [
    {
     "name": "stdout",
     "output_type": "stream",
     "text": [
      " 1 | Hek  | Months.HEK | BCE 0401-Jul-04\n",
      " 2 | Met  | Months.MET | BCE 0401-Aug-02\n",
      " 3 | Boe  | Months.BOE | BCE 0401-Sep-01\n",
      " 4 | Boe₂ | Months.INT | BCE 0401-Oct-01\n",
      " 5 | Pua  | Months.PUA | BCE 0401-Oct-30\n",
      " 6 | Mai  | Months.MAI | BCE 0401-Nov-29\n",
      " 7 | Pos  | Months.POS | BCE 0401-Dec-29\n",
      " 8 | Gam  | Months.GAM | BCE 0400-Jan-27\n",
      " 9 | Ant  | Months.ANT | BCE 0400-Feb-26\n",
      "10 | Ela  | Months.ELA | BCE 0400-Mar-27\n",
      "11 | Mou  | Months.MOU | BCE 0400-Apr-26\n",
      "12 | Tha  | Months.THA | BCE 0400-May-25\n",
      "13 | Ski  | Months.SKI | BCE 0400-Jun-23\n"
     ]
    }
   ],
   "source": [
    "cal = ha.festival_months(ha.bce_as_negative(401), intercalate=ha.Months.BOE, abbrev=True)\n",
    "for i, m in enumerate(cal, 1):\n",
    "    print(f\"{i:>2} | {m['month']:4} | {(m['constant'].__str__())} | {ha.as_eet(m['start'])}\")"
   ]
  },
  {
   "cell_type": "markdown",
   "metadata": {},
   "source": [
    "Note that in both examples, the intercalated month, no matter what it is called, has the `constant` `Months.INT`.\n",
    "\n",
    "Note, also, that these intercalations are _not_ historically accurate. They are possible based on astronomical events but it requires other evidence to determine which years Athenian officials actually decided would be intercalated."
   ]
  },
  {
   "cell_type": "markdown",
   "metadata": {},
   "source": [
    "#### Searching for a Date\n",
    "\n",
    "Use `find_date()` to look up a specific Greek date. This returns a `dict` similar to those from `festival_calendar()`."
   ]
  },
  {
   "cell_type": "code",
   "execution_count": 35,
   "metadata": {},
   "outputs": [
    {
     "data": {
      "text/plain": [
       "{'month': 'Elaphēboliṓn',\n",
       " 'constant': <Months.ELA: 8>,\n",
       " 'day': 10,\n",
       " 'date': <Time tt=1575418.0545360534>,\n",
       " 'doy': 276}"
      ]
     },
     "execution_count": 35,
     "metadata": {},
     "output_type": "execute_result"
    }
   ],
   "source": [
    "# Elaphēboliṓn 10, 401/400 BCE\n",
    "ha.find_date(ha.bce_as_negative(401), ha.Months.ELA, 10)"
   ]
  },
  {
   "cell_type": "markdown",
   "metadata": {},
   "source": [
    "This also takes the same `abbrev`, `greek`, `intercalate`, and `rule` parameters as `festival_calendar()`.\n",
    "\n",
    "Use `Months.INT` to look up a date in an intercalated month (whichever month that turns out to be):"
   ]
  },
  {
   "cell_type": "code",
   "execution_count": 36,
   "metadata": {},
   "outputs": [
    {
     "data": {
      "text/plain": [
       "{'month': 'Boēdromiṓn hústeros',\n",
       " 'constant': <Months.INT: 12>,\n",
       " 'day': 10,\n",
       " 'date': <Time tt=1575241.054617381>,\n",
       " 'doy': 99}"
      ]
     },
     "execution_count": 36,
     "metadata": {},
     "output_type": "execute_result"
    }
   ],
   "source": [
    "# Boēdromiṓn hústeros 10, 401/400 BCE if Boēdromiṓn is intercalated\n",
    "ha.find_date(ha.bce_as_negative(401), ha.Months.INT, 10, intercalate=ha.Months.BOE)"
   ]
  },
  {
   "cell_type": "code",
   "execution_count": 37,
   "metadata": {},
   "outputs": [
    {
     "name": "stdout",
     "output_type": "stream",
     "text": [
      "No date found for Hekatombaiṓn 30 -399\n",
      "No date found or no intercalated month in year -399\n"
     ]
    }
   ],
   "source": [
    "# Hekatombaiṓn 400 BCE only has 29 days\n",
    "try:\n",
    "    print(ha.find_date(ha.bce_as_negative(400), ha.Months.HEK, 30))\n",
    "except ha.HeniautosError as e:\n",
    "    print(str(e))\n",
    "\n",
    "# No intercalation in 400 BCE\n",
    "try:\n",
    "    print(ha.find_date(ha.bce_as_negative(400), ha.Months.INT, 10))\n",
    "except ha.HeniautosError as e:\n",
    "    print(str(e))\n",
    "    "
   ]
  },
  {
   "cell_type": "markdown",
   "metadata": {},
   "source": [
    "### The Conciliar Year\n",
    "\n",
    "Business of the _boulḗ_ or \"council\" was scheduled on a different calendar. Athenian citizens were divided into _phulaí_, usually translated \"tribes\" although they were purely bureaucratic and had nothing to do with kinship or other traditional social groupings. The _boulḗ_ was made up of 50 men (only men had any political rights in Athens) chosen from each tribe annually and the presidency (_prutaneía_ or \"prytany\") of the _boulḗ_ rotated through the delegation from each tribe. Thus the conciliar year had to be divided as evenly as possible into ten prytanies (later 12 and 13 prytanies when more _phulaí_ were added).\n",
    "\n",
    "Much government business, such as financial payments, were dated in inscriptions by the number of the prytany in which they occured and some annual events were scheduled on the conciliar calendar. For instance, the decision whether or not to hold an ostracism was made in the 6th prytany, with the ostracism voting taking place in the 8th.\n",
    "\n",
    "There were two major stages in the history if the conciliar calendar. Before about 408 it was much like a solar year, beginning on a set day (not the same day as the festival calendar) and lasting 365 or 366 days. Around 408 Athenians decided to align their two calendars so that they would begin and end on the same days although, within the year, the beginnings of the 12 festival months did not match those of the 10 prytanies."
   ]
  },
  {
   "cell_type": "markdown",
   "metadata": {},
   "source": [
    "#### The \"Quasi-Solar\" Conciliar Year\n",
    "\n",
    "During this phase, the conciliar year began early in July, as early as the 3rd though over time it moved later until the last years began on the 9th (we are not sure how they determined the dates or why they were moved)\n",
    "\n",
    "For instance, `heniautos` calculates the 429/428 festival year as begining on July 13, 429 and ending July 1, 428. It is a normal festival year of 354 days.\n",
    "\n",
    "The conciliar year, however, begins on July 4, 429 and ends on July 3, 428—365 days."
   ]
  },
  {
   "cell_type": "code",
   "execution_count": 38,
   "metadata": {},
   "outputs": [
    {
     "name": "stdout",
     "output_type": "stream",
     "text": [
      "Festival year begins: BCE 0429-Jul-13\n",
      "                ends: BCE 0428-Jul-01\n",
      "354 days\n",
      "\n",
      "Prytany | Begins          | Ends            | Days\n",
      "--------------------------------------------------\n",
      "      1 | BCE 0429-Jul-04 | BCE 0429-Aug-09 |   37\n",
      "      2 | BCE 0429-Aug-10 | BCE 0429-Sep-15 |   37\n",
      "      3 | BCE 0429-Sep-16 | BCE 0429-Oct-22 |   37\n",
      "      4 | BCE 0429-Oct-23 | BCE 0429-Nov-28 |   37\n",
      "      5 | BCE 0429-Nov-29 | BCE 0428-Jan-04 |   37\n",
      "      6 | BCE 0428-Jan-05 | BCE 0428-Feb-09 |   36\n",
      "      7 | BCE 0428-Feb-10 | BCE 0428-Mar-17 |   36\n",
      "      8 | BCE 0428-Mar-18 | BCE 0428-Apr-22 |   36\n",
      "      9 | BCE 0428-Apr-23 | BCE 0428-May-28 |   36\n",
      "     10 | BCE 0428-May-29 | BCE 0428-Jul-03 |   36\n",
      "365 days\n"
     ]
    }
   ],
   "source": [
    "def show_prytanies(year):\n",
    "    prytany = ha.prytany_calendar(ha.bce_as_negative(year))\n",
    "    print(\"Prytany | Begins          | Ends            | Days\")\n",
    "    print(\"-\"*50)\n",
    "    for pryt in prytany:\n",
    "        print(f\"{pryt['prytany']:>7} | {ha.as_eet(pryt['days'][0]['date'])} | \"\n",
    "              f\"{ha.as_eet(pryt['days'][-1]['date'])} |\" \n",
    "              f\"{len(pryt['days']):>5}\")\n",
    "    print(f\"{prytany[-1]['days'][-1]['doy']} days\")\n",
    "\n",
    "\n",
    "fest = ha.festival_calendar(ha.bce_as_negative(429))\n",
    "\n",
    "print(f\"Festival year begins: {ha.as_eet(fest[0]['days'][0]['date'])}\")\n",
    "print(f\"                ends: {ha.as_eet(fest[-1]['days'][-1]['date'])}\")\n",
    "print(f\"{fest[-1]['days'][-1]['doy']} days\")\n",
    "print()\n",
    "\n",
    "show_prytanies(429)"
   ]
  },
  {
   "cell_type": "markdown",
   "metadata": {},
   "source": [
    "The different lengths of the prytanies (37 or 36 days) have nothing to do with the moon. In this case it is simply math—it takes 5 37-day prytanies and 5 36-day prytanies to fill up a year of 365 days ((37 × 5) + (36 × 5) = 365). A passage in Aristotle (_AthPol_ 43.2) implies the the longer prytanies always came first. This has become known as the \"Rule of Aristotle\" and is by no means certain and is frequently discussed (See Pritchett & Neugebauer \\[1947\\] 36, Meritt \\[1961\\] 10-15, Meritt \\[1976\\], Rhodes \\[1985\\] 517-519), but since it is the simplest arrangement `heniautos`  follows this rule.\n",
    "\n",
    "As a quasi-solar year, the conciliar year may need a quasi-leap day. When a the year must last 366 days, the extra day is simply added to the last prytany."
   ]
  },
  {
   "cell_type": "code",
   "execution_count": 39,
   "metadata": {},
   "outputs": [
    {
     "name": "stdout",
     "output_type": "stream",
     "text": [
      "Prytany | Begins          | Ends            | Days\n",
      "--------------------------------------------------\n",
      "      1 | BCE 0430-Jul-04 | BCE 0430-Aug-09 |   37\n",
      "      2 | BCE 0430-Aug-10 | BCE 0430-Sep-15 |   37\n",
      "      3 | BCE 0430-Sep-16 | BCE 0430-Oct-22 |   37\n",
      "      4 | BCE 0430-Oct-23 | BCE 0430-Nov-28 |   37\n",
      "      5 | BCE 0430-Nov-29 | BCE 0429-Jan-04 |   37\n",
      "      6 | BCE 0429-Jan-05 | BCE 0429-Feb-09 |   36\n",
      "      7 | BCE 0429-Feb-10 | BCE 0429-Mar-16 |   36\n",
      "      8 | BCE 0429-Mar-17 | BCE 0429-Apr-21 |   36\n",
      "      9 | BCE 0429-Apr-22 | BCE 0429-May-27 |   36\n",
      "     10 | BCE 0429-May-28 | BCE 0429-Jul-03 |   37\n",
      "366 days\n"
     ]
    }
   ],
   "source": [
    "show_prytanies(430)"
   ]
  },
  {
   "cell_type": "markdown",
   "metadata": {},
   "source": [
    "#### \"Aligned\" Conciliar Years\n",
    "\n",
    "The second major era in the conciliar year began around 408. Athenians decided to begin and end the conciliar year together with the festival year. This requires different arrangments to accomodate the varying lengths of the festival year. In later centuries the number of tribes grew as well, requiring 12- and 13-prytany versions"
   ]
  },
  {
   "cell_type": "markdown",
   "metadata": {},
   "source": [
    "##### 10-prytany Years\n",
    "\n",
    "There were 10 tribes until the year 308, requiring a 10-prytany year. A normal 354-day year was divided into 4 36-day and 6 35-day prytanies (for a 355-day year, the extra day is added to the last prytany)"
   ]
  },
  {
   "cell_type": "code",
   "execution_count": 40,
   "metadata": {},
   "outputs": [
    {
     "name": "stdout",
     "output_type": "stream",
     "text": [
      "Prytany | Begins          | Ends            | Days\n",
      "--------------------------------------------------\n",
      "      1 | BCE 0400-Jul-23 | BCE 0400-Aug-27 |   36\n",
      "      2 | BCE 0400-Aug-28 | BCE 0400-Oct-02 |   36\n",
      "      3 | BCE 0400-Oct-03 | BCE 0400-Nov-07 |   36\n",
      "      4 | BCE 0400-Nov-08 | BCE 0400-Dec-13 |   36\n",
      "      5 | BCE 0400-Dec-14 | BCE 0399-Jan-17 |   35\n",
      "      6 | BCE 0399-Jan-18 | BCE 0399-Feb-21 |   35\n",
      "      7 | BCE 0399-Feb-22 | BCE 0399-Mar-28 |   35\n",
      "      8 | BCE 0399-Mar-29 | BCE 0399-May-02 |   35\n",
      "      9 | BCE 0399-May-03 | BCE 0399-Jun-06 |   35\n",
      "     10 | BCE 0399-Jun-07 | BCE 0399-Jul-11 |   35\n",
      "354 days\n"
     ]
    }
   ],
   "source": [
    "show_prytanies(400)"
   ]
  },
  {
   "cell_type": "markdown",
   "metadata": {},
   "source": [
    "A 384-day intercalary year had 4 39-day and 6 38-day prytanies."
   ]
  },
  {
   "cell_type": "code",
   "execution_count": 41,
   "metadata": {},
   "outputs": [
    {
     "name": "stdout",
     "output_type": "stream",
     "text": [
      "Prytany | Begins          | Ends            | Days\n",
      "--------------------------------------------------\n",
      "      1 | BCE 0401-Jul-04 | BCE 0401-Aug-11 |   39\n",
      "      2 | BCE 0401-Aug-12 | BCE 0401-Sep-19 |   39\n",
      "      3 | BCE 0401-Sep-20 | BCE 0401-Oct-28 |   39\n",
      "      4 | BCE 0401-Oct-29 | BCE 0401-Dec-06 |   39\n",
      "      5 | BCE 0401-Dec-07 | BCE 0400-Jan-13 |   38\n",
      "      6 | BCE 0400-Jan-14 | BCE 0400-Feb-20 |   38\n",
      "      7 | BCE 0400-Feb-21 | BCE 0400-Mar-30 |   38\n",
      "      8 | BCE 0400-Mar-31 | BCE 0400-May-07 |   38\n",
      "      9 | BCE 0400-May-08 | BCE 0400-Jun-14 |   38\n",
      "     10 | BCE 0400-Jun-15 | BCE 0400-Jul-22 |   38\n",
      "384 days\n"
     ]
    }
   ],
   "source": [
    "show_prytanies(401)"
   ]
  },
  {
   "cell_type": "markdown",
   "metadata": {},
   "source": [
    "##### 12-prytany Years\n",
    "\n",
    "From 307 to 222 BCE and again in the 100's BCE there were twelve tribes and therefore 12 prytanies. In a normal year the prytanies probably followed the festival calendar."
   ]
  },
  {
   "cell_type": "code",
   "execution_count": 42,
   "metadata": {},
   "outputs": [
    {
     "name": "stdout",
     "output_type": "stream",
     "text": [
      "Prytany | Begins          | Ends            | Days\n",
      "--------------------------------------------------\n",
      "      1 | BCE 0301-Jul-09 | BCE 0301-Aug-06 |   29\n",
      "      2 | BCE 0301-Aug-07 | BCE 0301-Sep-04 |   29\n",
      "      3 | BCE 0301-Sep-05 | BCE 0301-Oct-04 |   30\n",
      "      4 | BCE 0301-Oct-05 | BCE 0301-Nov-02 |   29\n",
      "      5 | BCE 0301-Nov-03 | BCE 0301-Dec-02 |   30\n",
      "      6 | BCE 0301-Dec-03 | BCE 0300-Jan-01 |   30\n",
      "      7 | BCE 0300-Jan-02 | BCE 0300-Jan-30 |   29\n",
      "      8 | BCE 0300-Jan-31 | BCE 0300-Mar-01 |   30\n",
      "      9 | BCE 0300-Mar-02 | BCE 0300-Mar-31 |   30\n",
      "     10 | BCE 0300-Apr-01 | BCE 0300-Apr-29 |   29\n",
      "     11 | BCE 0300-Apr-30 | BCE 0300-May-29 |   30\n",
      "     12 | BCE 0300-May-30 | BCE 0300-Jun-27 |   29\n",
      "354 days\n"
     ]
    }
   ],
   "source": [
    "show_prytanies(301)"
   ]
  },
  {
   "cell_type": "markdown",
   "metadata": {},
   "source": [
    "You can force the Rule of Aristotle in this case, though."
   ]
  },
  {
   "cell_type": "code",
   "execution_count": 43,
   "metadata": {},
   "outputs": [
    {
     "name": "stdout",
     "output_type": "stream",
     "text": [
      "[29, 29, 30, 29, 30, 30, 29, 30, 30, 29, 30, 29]\n",
      "[30, 30, 30, 30, 30, 30, 29, 29, 29, 29, 29, 29]\n"
     ]
    }
   ],
   "source": [
    "print([len(p[\"days\"]) for p in ha.prytany_calendar(ha.bce_as_negative(301))])\n",
    "print([len(p[\"days\"]) for p in ha.prytany_calendar(ha.bce_as_negative(301), rule_of_aristotle=True)])"
   ]
  },
  {
   "cell_type": "markdown",
   "metadata": {},
   "source": [
    "An intercalary year has twelve 32-day prytanies."
   ]
  },
  {
   "cell_type": "code",
   "execution_count": 44,
   "metadata": {},
   "outputs": [
    {
     "name": "stdout",
     "output_type": "stream",
     "text": [
      "Prytany | Begins          | Ends            | Days\n",
      "--------------------------------------------------\n",
      "      1 | BCE 0300-Jun-28 | BCE 0300-Jul-29 |   32\n",
      "      2 | BCE 0300-Jul-30 | BCE 0300-Aug-30 |   32\n",
      "      3 | BCE 0300-Aug-31 | BCE 0300-Oct-01 |   32\n",
      "      4 | BCE 0300-Oct-02 | BCE 0300-Nov-02 |   32\n",
      "      5 | BCE 0300-Nov-03 | BCE 0300-Dec-04 |   32\n",
      "      6 | BCE 0300-Dec-05 | BCE 0299-Jan-05 |   32\n",
      "      7 | BCE 0299-Jan-06 | BCE 0299-Feb-06 |   32\n",
      "      8 | BCE 0299-Feb-07 | BCE 0299-Mar-10 |   32\n",
      "      9 | BCE 0299-Mar-11 | BCE 0299-Apr-11 |   32\n",
      "     10 | BCE 0299-Apr-12 | BCE 0299-May-13 |   32\n",
      "     11 | BCE 0299-May-14 | BCE 0299-Jun-14 |   32\n",
      "     12 | BCE 0299-Jun-15 | BCE 0299-Jul-16 |   32\n",
      "384 days\n"
     ]
    }
   ],
   "source": [
    "show_prytanies(300)"
   ]
  },
  {
   "cell_type": "markdown",
   "metadata": {},
   "source": [
    "##### 13-prytany Years\n",
    "\n",
    "From 221 to 201 there were 13 tribes. A normal year had 28- and 27-day prytanies"
   ]
  },
  {
   "cell_type": "code",
   "execution_count": 45,
   "metadata": {},
   "outputs": [
    {
     "name": "stdout",
     "output_type": "stream",
     "text": [
      "Prytany | Begins          | Ends            | Days\n",
      "--------------------------------------------------\n",
      "      1 | BCE 0210-Jul-23 | BCE 0210-Aug-19 |   28\n",
      "      2 | BCE 0210-Aug-20 | BCE 0210-Sep-16 |   28\n",
      "      3 | BCE 0210-Sep-17 | BCE 0210-Oct-14 |   28\n",
      "      4 | BCE 0210-Oct-15 | BCE 0210-Nov-10 |   27\n",
      "      5 | BCE 0210-Nov-11 | BCE 0210-Dec-07 |   27\n",
      "      6 | BCE 0210-Dec-08 | BCE 0209-Jan-03 |   27\n",
      "      7 | BCE 0209-Jan-04 | BCE 0209-Jan-30 |   27\n",
      "      8 | BCE 0209-Jan-31 | BCE 0209-Feb-26 |   27\n",
      "      9 | BCE 0209-Feb-27 | BCE 0209-Mar-24 |   27\n",
      "     10 | BCE 0209-Mar-25 | BCE 0209-Apr-20 |   27\n",
      "     11 | BCE 0209-Apr-21 | BCE 0209-May-17 |   27\n",
      "     12 | BCE 0209-May-18 | BCE 0209-Jun-13 |   27\n",
      "     13 | BCE 0209-Jun-14 | BCE 0209-Jul-10 |   27\n",
      "354 days\n"
     ]
    }
   ],
   "source": [
    "show_prytanies(210)"
   ]
  },
  {
   "cell_type": "markdown",
   "metadata": {},
   "source": [
    "In intercalated years the prytanies probably followed the festival calendar with 30- and 29-day prytanies."
   ]
  },
  {
   "cell_type": "code",
   "execution_count": 46,
   "metadata": {},
   "outputs": [
    {
     "name": "stdout",
     "output_type": "stream",
     "text": [
      "Prytany | Begins          | Ends            | Days\n",
      "--------------------------------------------------\n",
      "      1 | BCE 0211-Jul-04 | BCE 0211-Aug-02 |   30\n",
      "      2 | BCE 0211-Aug-03 | BCE 0211-Aug-31 |   29\n",
      "      3 | BCE 0211-Sep-01 | BCE 0211-Sep-30 |   30\n",
      "      4 | BCE 0211-Oct-01 | BCE 0211-Oct-29 |   29\n",
      "      5 | BCE 0211-Oct-30 | BCE 0211-Nov-27 |   29\n",
      "      6 | BCE 0211-Nov-28 | BCE 0211-Dec-27 |   30\n",
      "      7 | BCE 0211-Dec-28 | BCE 0210-Jan-26 |   30\n",
      "      8 | BCE 0210-Jan-27 | BCE 0210-Feb-24 |   29\n",
      "      9 | BCE 0210-Feb-25 | BCE 0210-Mar-26 |   30\n",
      "     10 | BCE 0210-Mar-27 | BCE 0210-Apr-25 |   30\n",
      "     11 | BCE 0210-Apr-26 | BCE 0210-May-24 |   29\n",
      "     12 | BCE 0210-May-25 | BCE 0210-Jun-23 |   30\n",
      "     13 | BCE 0210-Jun-24 | BCE 0210-Jul-22 |   29\n",
      "384 days\n"
     ]
    }
   ],
   "source": [
    "show_prytanies(211)"
   ]
  },
  {
   "cell_type": "markdown",
   "metadata": {},
   "source": [
    "For these years, too, you can force the Rule of Aristotle to be used."
   ]
  },
  {
   "cell_type": "code",
   "execution_count": 47,
   "metadata": {},
   "outputs": [
    {
     "name": "stdout",
     "output_type": "stream",
     "text": [
      "[30, 29, 30, 29, 29, 30, 30, 29, 30, 30, 29, 30, 29]\n",
      "[30, 30, 30, 30, 30, 30, 30, 29, 29, 29, 29, 29, 29]\n"
     ]
    }
   ],
   "source": [
    "print([len(p[\"days\"]) for p in ha.prytany_calendar(ha.bce_as_negative(211))])\n",
    "print([len(p[\"days\"]) for p in ha.prytany_calendar(ha.bce_as_negative(211), rule_of_aristotle=True)])"
   ]
  },
  {
   "cell_type": "markdown",
   "metadata": {},
   "source": [
    "### After the Fall\n",
    "\n",
    "In the first century BCE Athens became more integrated into the Roman Empire and the Julian calendar replaced the old Greek calendars. For any year after and including 100 BCE, `heniautos` will generate a 10-prytany \"aligned\" calendar just as an example of what the conciliar year _might have been_. This was most common version, the more instructive for most cases and probably what you want as a \"What would the Athenian calendar have been for this (modern) year."
   ]
  },
  {
   "cell_type": "code",
   "execution_count": 48,
   "metadata": {},
   "outputs": [
    {
     "name": "stdout",
     "output_type": "stream",
     "text": [
      "Prytany | Begins          | Ends            | Days\n",
      "--------------------------------------------------\n",
      "      1 |  CE 2021-Jul-12 |  CE 2021-Aug-16 |   36\n",
      "      2 |  CE 2021-Aug-17 |  CE 2021-Sep-21 |   36\n",
      "      3 |  CE 2021-Sep-22 |  CE 2021-Oct-27 |   36\n",
      "      4 |  CE 2021-Oct-28 |  CE 2021-Dec-02 |   36\n",
      "      5 |  CE 2021-Dec-03 |  CE 2022-Jan-06 |   35\n",
      "      6 |  CE 2022-Jan-07 |  CE 2022-Feb-10 |   35\n",
      "      7 |  CE 2022-Feb-11 |  CE 2022-Mar-17 |   35\n",
      "      8 |  CE 2022-Mar-18 |  CE 2022-Apr-21 |   35\n",
      "      9 |  CE 2022-Apr-22 |  CE 2022-May-26 |   35\n",
      "     10 |  CE 2022-May-27 |  CE 2022-Jun-30 |   35\n",
      "354 days\n"
     ]
    }
   ],
   "source": [
    "# Going to trick our helper function in this notebook to show a CE year\n",
    "show_prytanies(-2020)"
   ]
  },
  {
   "cell_type": "markdown",
   "metadata": {},
   "source": [
    "### Choosing a Prytany Variation"
   ]
  },
  {
   "cell_type": "markdown",
   "metadata": {},
   "source": [
    "Since the years when the conciliar year variation changed might be a uncertain, and because it just might be interesting, you can specify the variation you want to see by giving `prytany_calendar()` a `pryt_type` parameter. This should be a constant value from `Prytany`"
   ]
  },
  {
   "cell_type": "code",
   "execution_count": 49,
   "metadata": {},
   "outputs": [
    {
     "data": {
      "text/plain": [
       "[<Prytany.AUTO: 0>,\n",
       " <Prytany.QUASI_SOLAR: 1>,\n",
       " <Prytany.ALIGNED_10: 2>,\n",
       " <Prytany.ALIGNED_12: 3>,\n",
       " <Prytany.ALIGNED_13: 4>]"
      ]
     },
     "execution_count": 49,
     "metadata": {},
     "output_type": "execute_result"
    }
   ],
   "source": [
    "list(ha.Prytany)"
   ]
  },
  {
   "cell_type": "markdown",
   "metadata": {},
   "source": [
    "All the examples above used `Prytany.AUTO` as the default. This will choose for you based on the year:\n",
    "\n",
    "* Before 508 BCE: raises an error because there were certainly no prytanies before the [founding of democracy](https://en.wikipedia.org/wiki/Athenian_Revolution)\n",
    "* 508—410: `Prytany.QUASI_SOLAR`. The conciliar calendar probably didn't come into use for some decades after the founding of democracy, but for lack of a more certain start date, `heniautos` uses 508 BCE.\n",
    "* 409—308: `Prytany.ALIGNED_10`\n",
    "* 307—222: `Prytany.ALIGNED_12`\n",
    "* 221-201: `Prytany.ALIGNED_13` (The period of 13 tribes was short)\n",
    "* 200-101: `Prytany.ALIGNED_12`\n",
    "* 100 BCE and after: `Prytany.ALIGNED_10`\n",
    "\n",
    "You can force the generation of a particular variation for any year by specifying one of these values as the `pryt_type`"
   ]
  },
  {
   "cell_type": "code",
   "execution_count": 50,
   "metadata": {},
   "outputs": [
    {
     "name": "stdout",
     "output_type": "stream",
     "text": [
      "[36, 36, 36, 36, 35, 35, 35, 35, 35, 35]\n",
      "[28, 28, 28, 27, 27, 27, 27, 27, 27, 27, 27, 27, 27]\n"
     ]
    }
   ],
   "source": [
    "# 10-prytany default for 400 BCE\n",
    "print([len(p[\"days\"]) for p in ha.prytany_calendar(ha.bce_as_negative(400))])\n",
    "\n",
    "# But what if it had 13?\n",
    "print([len(p[\"days\"]) for p in ha.prytany_calendar(ha.bce_as_negative(400), pryt_type=ha.Prytany.ALIGNED_13)])"
   ]
  },
  {
   "cell_type": "markdown",
   "metadata": {},
   "source": [
    "The \"quasi-solar\" calendar has variation in the start date as well. By default `heniautos` uses the following:\n",
    "\n",
    "* Before 424 BCE: July 4\n",
    "* 424—421: July 7\n",
    "* 420: July 8\n",
    "* 419 BCE and after: July 9\n",
    "\n",
    "These are based on Meritt (1961) 218. You can choose a different day _in July_ for the quasi-solar conciliar year by giving a `pryt_start` parameter to `festival_calendar()` or `festival_months()`. This has no effect if the quasi-solar year is not specified with `Prytany.QUASI_SOLAR` or chosen by `Prytany.AUTO`"
   ]
  },
  {
   "cell_type": "code",
   "execution_count": 51,
   "metadata": {},
   "outputs": [
    {
     "name": "stdout",
     "output_type": "stream",
     "text": [
      "BCE 0430-Jul-04\n",
      "BCE 0430-Jul-06\n"
     ]
    }
   ],
   "source": [
    "# Conciliar year start 430 BCE starts July 4 by default\n",
    "print(ha.as_eet(ha.prytany_calendar(ha.bce_as_negative(430))[0][\"days\"][0][\"date\"]))\n",
    "\n",
    "# You can make it start, for example, July 6\n",
    "print(ha.as_eet(ha.prytany_calendar(ha.bce_as_negative(430), pryt_start=6)[0][\"days\"][0][\"date\"]))"
   ]
  },
  {
   "cell_type": "markdown",
   "metadata": {},
   "source": [
    "## Bibliography\n",
    "\n",
    "The most commonly cited works about the Athenian calendar are Pritchet and Neugebauer (1947) and Meritt (1932) and (1961). Planeaux (forthcoming) is the first lengthy investigation in some time and attempts better identify precise astronomical events that Athenians might have used to manage their calendar.\n",
    "\n",
    "* Meritt, Benjamin D. 1932. Athenian Financial Documents of the Fifth Century. Ann Arbor: University of Michigan Press.\n",
    "* ----------. 1961. _The Athenian Year._ Sather Classical Lectures 32. Berkeley: University of California Press.\n",
    "* ----------. 1976. “Normal Lengths of Prytany in the Athenian Year.” _Greek, Roman, and Byzantine Studies_ 17 (2): 147–52.\n",
    "* Planeaux, Christopher. Forthcoming. _Athenian Year Primer_.\n",
    "* Pritchett, W. Kendrick, and O. Neugebauer. 1947. _The Calendars of Athens_. Cambridge: Harvard University Press.\n",
    "* Rhodes, P. J. 1985. _A Commentary on the Aristotelian Athenaion Politeia_. Oxford: Oxford University Press.\n",
    "\n",
    "\n"
   ]
  }
 ],
 "metadata": {
  "kernelspec": {
   "display_name": "heniautos",
   "language": "python",
   "name": "heniautos"
  },
  "language_info": {
   "codemirror_mode": {
    "name": "ipython",
    "version": 3
   },
   "file_extension": ".py",
   "mimetype": "text/x-python",
   "name": "python",
   "nbconvert_exporter": "python",
   "pygments_lexer": "ipython3",
   "version": "3.9.2"
  }
 },
 "nbformat": 4,
 "nbformat_minor": 4
}
