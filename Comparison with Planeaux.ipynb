{
 "cells": [
  {
   "cell_type": "markdown",
   "metadata": {},
   "source": [
    "# Comparison with Planeux, _Athenian Year Primer_"
   ]
  },
  {
   "cell_type": "code",
   "execution_count": 1,
   "metadata": {},
   "outputs": [
    {
     "data": {
      "text/plain": [
       "'de422.bsp'"
      ]
     },
     "execution_count": 1,
     "metadata": {},
     "output_type": "execute_result"
    }
   ],
   "source": [
    "import heniautos as ha\n",
    "ha.init_data()"
   ]
  },
  {
   "cell_type": "code",
   "execution_count": 2,
   "metadata": {},
   "outputs": [],
   "source": [
    "planeux_intercalations = list(\"OIOOIOOIOOIOIOOIOOIOIOOIOOIOOIOIOOIOOIOIOOIOOIOOIOIOOIOOIOIO\")\n",
    "\n",
    "planeux_hek1 = ((7, 19), (7, 7), (7, 26), (7, 16), (7, 5), (7, 23), (7, 12), (7, 1), (7, 20), (7, 8),\n",
    "               (6, 28), (7, 17), (7, 7), (7, 25), (7, 14), (7, 3), (7, 22), (7, 10), (6, 29), (7, 18),\n",
    "               (7, 8), (7, 26), (7, 16), (7, 5), (7, 24), (7, 12), (7, 1), (7, 20), (7, 9), (6, 28),\n",
    "               (7, 17), (7, 7), (7, 26), (7, 14), (7, 3), (7, 22), (7, 11), (6, 29), (7, 18), (7, 8),\n",
    "               (7, 27), (7, 15), (7, 4), (7, 23), (7, 12), (7, 1), (7, 20), (7, 9), (6, 29), (7, 17),\n",
    "               (7, 6), (7, 25), (7, 14), (7, 2), (7, 21), (7, 11), (6, 30), (7, 18), (7, 8), (7, 27))\n",
    "\n",
    "planeux_len = (354, 384, 355, 354, 384, 354, 354, 384, 354, 355, \n",
    "              384, 355, 384, 354, 354, 384, 354, 354, 384, 355,\n",
    "              384, 355, 354, 384, 354, 354, 384, 354, 355, 384,\n",
    "              355, 384, 354, 354, 384, 354, 354, 384, 355, 384,\n",
    "              354, 354, 384, 354, 355, 384, 354, 355, 384, 354,\n",
    "              384, 354, 354, 384, 355, 354, 384, 355, 384, 354)\n",
    "\n",
    "def month(m):\n",
    "    if m == 6:\n",
    "        return \"Jun\"\n",
    "    if m == 7:\n",
    "        return \"Jul\"\n",
    "    return \"Aug\""
   ]
  },
  {
   "cell_type": "markdown",
   "metadata": {},
   "source": [
    "Planeaux (forthcoming) 177-178 presents a summary of his calculations for the years 462/1-403/2 BCE, which he has made using (Stellarium)[http://stellarium.org/]. Reproduced below are his results for whether the year was intercalated (I) or not (O), the Julian date of Hekatombaiṓn 1 and the length of the year"
   ]
  },
  {
   "cell_type": "code",
   "execution_count": 3,
   "metadata": {},
   "outputs": [
    {
     "name": "stdout",
     "output_type": "stream",
     "text": [
      "Year    | Int? | Hek. 1 | Length\n",
      "--------------------------------\n",
      "462/461 |  O   | Jul-19 |   354\n",
      "461/460 |  I   | Jul-07 |   384\n",
      "--------------------------------\n",
      "460/459 |  O   | Jul-26 |   355\n",
      "459/458 |  O   | Jul-16 |   354\n",
      "458/457 |  I   | Jul-05 |   384\n",
      "457/456 |  O   | Jul-23 |   354\n",
      "456/455 |  O   | Jul-12 |   354\n",
      "455/454 |  I   | Jul-01 |   384\n",
      "454/453 |  O   | Jul-20 |   354\n",
      "453/452 |  O   | Jul-08 |   355\n",
      "452/451 |  I   | Jun-28 |   384\n",
      "451/450 |  O   | Jul-17 |   355\n",
      "--------------------------------\n",
      "450/449 |  I   | Jul-07 |   384\n",
      "449/448 |  O   | Jul-25 |   354\n",
      "448/447 |  O   | Jul-14 |   354\n",
      "447/446 |  I   | Jul-03 |   384\n",
      "446/445 |  O   | Jul-22 |   354\n",
      "445/444 |  O   | Jul-10 |   354\n",
      "444/443 |  I   | Jun-29 |   384\n",
      "443/442 |  O   | Jul-18 |   355\n",
      "442/441 |  I   | Jul-08 |   384\n",
      "441/440 |  O   | Jul-26 |   355\n",
      "--------------------------------\n",
      "440/439 |  O   | Jul-16 |   354\n",
      "439/438 |  I   | Jul-05 |   384\n",
      "438/437 |  O   | Jul-24 |   354\n",
      "437/436 |  O   | Jul-12 |   354\n",
      "436/435 |  I   | Jul-01 |   384\n",
      "435/434 |  O   | Jul-20 |   354\n",
      "434/433 |  O   | Jul-09 |   355\n",
      "433/432 |  I   | Jun-28 |   384\n",
      "432/431 |  O   | Jul-17 |   355\n",
      "431/430 |  I   | Jul-07 |   384\n",
      "--------------------------------\n",
      "430/429 |  O   | Jul-26 |   354\n",
      "429/428 |  O   | Jul-14 |   354\n",
      "428/427 |  I   | Jul-03 |   384\n",
      "427/426 |  O   | Jul-22 |   354\n",
      "426/425 |  O   | Jul-11 |   354\n",
      "425/424 |  I   | Jun-29 |   384\n",
      "424/423 |  O   | Jul-18 |   355\n",
      "423/422 |  I   | Jul-08 |   384\n",
      "422/421 |  O   | Jul-27 |   354\n",
      "421/420 |  O   | Jul-15 |   354\n",
      "--------------------------------\n",
      "420/419 |  I   | Jul-04 |   384\n",
      "419/418 |  O   | Jul-23 |   354\n",
      "418/417 |  O   | Jul-12 |   355\n",
      "417/416 |  I   | Jul-01 |   384\n",
      "416/415 |  O   | Jul-20 |   354\n",
      "415/414 |  O   | Jul-09 |   355\n",
      "414/413 |  I   | Jun-29 |   384\n",
      "413/412 |  O   | Jul-17 |   354\n",
      "412/411 |  I   | Jul-06 |   384\n",
      "411/410 |  O   | Jul-25 |   354\n",
      "--------------------------------\n",
      "410/409 |  O   | Jul-14 |   354\n",
      "409/408 |  I   | Jul-02 |   384\n",
      "408/407 |  O   | Jul-21 |   355\n",
      "407/406 |  O   | Jul-11 |   354\n",
      "406/405 |  I   | Jun-30 |   384\n",
      "405/404 |  O   | Jul-18 |   355\n",
      "404/403 |  I   | Jul-08 |   384\n",
      "403/402 |  O   | Jul-27 |   354\n"
     ]
    }
   ],
   "source": [
    "print(\"Year    | Int? | Hek. 1 | Length\")\n",
    "print(\"-\"*32)\n",
    "for i, year in enumerate(reversed(range(403, 463))):\n",
    "    if not year % 10:\n",
    "        print(\"-\"*32) \n",
    "    print(f\"{year}/{year-1} | {planeux_intercalations[i]:^4} | \"\n",
    "         f\"{month(planeux_hek1[i][0])}-{planeux_hek1[i][1]:02} | {planeux_len[i]:>5}\")"
   ]
  },
  {
   "cell_type": "markdown",
   "metadata": {},
   "source": [
    "How does `heniautos` compare? The output below compares `heniautos` calculations for the same years. Results that do not match are marked with an \"x\" (✗). The dates and year lengths indicate how far before (negative numbers) or after (positive) Planeaux's results `heniautos`' results fall."
   ]
  },
  {
   "cell_type": "code",
   "execution_count": 4,
   "metadata": {},
   "outputs": [
    {
     "name": "stdout",
     "output_type": "stream",
     "text": [
      "462/461 | O   | Jul-19         | 354        \n",
      "461/460 | I   | Jul-07         | 384        \n",
      "460/459 | O   | Jul-26         | 355        \n",
      "459/458 | O   | Jul-16         | 354        \n",
      "458/457 | I   | Jul-05         | 384        \n",
      "457/456 | O   | Jul-23         | 354        \n",
      "456/455 | O   | Jul-12         | 354        \n",
      "455/454 | I   | Jul-01         | 384        \n",
      "454/453 | O   | Jul-20         | 355 ✗ ( +1)\n",
      "453/452 | I ✗ | Jul-09 ✗ ( +1) | 384 ✗ (+29)\n",
      "------------------------------------------------------------\n",
      "452/451 | O ✗ | Jul-28 ✗ (+30) | 354 ✗ (-30)\n",
      "451/450 | O   | Jul-17         | 355        \n",
      "450/449 | I   | Jul-07         | 384        \n",
      "449/448 | O   | Jul-25         | 354        \n",
      "448/447 | O   | Jul-14         | 354        \n",
      "447/446 | I   | Jul-03         | 384        \n",
      "446/445 | O   | Jul-22         | 354        \n",
      "445/444 | O   | Jul-10         | 355 ✗ ( +1)\n",
      "444/443 | I   | Jun-30 ✗ ( +1) | 384        \n",
      "443/442 | O   | Jul-19 ✗ ( +1) | 354 ✗ ( -1)\n",
      "------------------------------------------------------------\n",
      "442/441 | I   | Jul-08         | 384        \n",
      "441/440 | O   | Jul-26         | 355        \n",
      "440/439 | O   | Jul-16         | 354        \n",
      "439/438 | I   | Jul-05         | 384        \n",
      "438/437 | O   | Jul-24         | 354        \n",
      "437/436 | O   | Jul-12         | 354        \n",
      "436/435 | I   | Jul-01         | 384        \n",
      "435/434 | O   | Jul-20         | 355 ✗ ( +1)\n",
      "434/433 | O   | Jul-10 ✗ ( +1) | 354 ✗ ( -1)\n",
      "433/432 | I   | Jun-28         | 384        \n",
      "------------------------------------------------------------\n",
      "432/431 | O   | Jul-17         | 355        \n",
      "431/430 | I   | Jul-07         | 383 ✗ ( -1)\n",
      "430/429 | O   | Jul-25 ✗ ( -1) | 354        \n",
      "429/428 | O   | Jul-13 ✗ ( -1) | 354        \n",
      "428/427 | I   | Jul-02 ✗ ( -1) | 384        \n",
      "427/426 | O   | Jul-21 ✗ ( -1) | 355 ✗ ( +1)\n",
      "426/425 | O   | Jul-11         | 355 ✗ ( +1)\n",
      "425/424 | I   | Jun-30 ✗ ( +1) | 384        \n",
      "424/423 | O   | Jul-19 ✗ ( +1) | 354 ✗ ( -1)\n",
      "423/422 | I   | Jul-08         | 384        \n",
      "------------------------------------------------------------\n",
      "422/421 | O   | Jul-27         | 354        \n",
      "421/420 | O   | Jul-15         | 354        \n",
      "420/419 | I   | Jul-04         | 384        \n",
      "419/418 | O   | Jul-23         | 354        \n",
      "418/417 | O   | Jul-12         | 355        \n",
      "417/416 | I   | Jul-01         | 384        \n",
      "416/415 | O   | Jul-20         | 355 ✗ ( +1)\n",
      "415/414 | O   | Jul-10 ✗ ( +1) | 354 ✗ ( -1)\n",
      "414/413 | I   | Jun-29         | 384        \n",
      "413/412 | O   | Jul-17         | 354        \n",
      "------------------------------------------------------------\n",
      "412/411 | I   | Jul-06         | 384        \n",
      "411/410 | O   | Jul-25         | 354        \n",
      "410/409 | O   | Jul-14         | 354        \n",
      "409/408 | I   | Jul-02         | 384        \n",
      "408/407 | O   | Jul-21         | 355        \n",
      "407/406 | O   | Jul-11         | 355 ✗ ( +1)\n",
      "406/405 | I   | Jul-01 ✗ ( +1) | 383 ✗ ( -1)\n",
      "405/404 | O   | Jul-18         | 355        \n",
      "404/403 | I   | Jul-08         | 383 ✗ ( -1)\n",
      "403/402 | O   | Jul-26 ✗ ( -1) | 354        \n"
     ]
    }
   ],
   "source": [
    "def check_i(m, i):\n",
    "    return f\"{m}  \" if m == planeux_intercalations[i] else f\"{m} ✗\" \n",
    "    \n",
    "    \n",
    "def fmt_i(months, i):\n",
    "    return check_i(\"I\", i) if months > 12 else check_i(\"O\", i)\n",
    "\n",
    "\n",
    "def check_m(m, year, i):\n",
    "    return f\"{m} \" if m == planeux_hek[i] else f\"{m}✗\" \n",
    "    \n",
    "\n",
    "def fmt_m(month, year):\n",
    "    mdate = ha.date(ha.bce_as_negative(year), planeux_hek1[i][0], planeux_hek1[i][1])\n",
    "    date_diff = ha.span(mdate, month['days'][0]['date'])\n",
    "    fmt_date = ha.as_eet(month['days'][0]['date'])[9:]\n",
    "    if date_diff:\n",
    "        return f\"{fmt_date} ✗ ({date_diff:+3})\"\n",
    "\n",
    "    return f\"{fmt_date:14}\"\n",
    "\n",
    "def fmt_len(f, i):\n",
    "    ln = f[-1]['days'][-1]['doy']\n",
    "    ln_diff = ln - planeux_len[i]\n",
    "    \n",
    "    if ln_diff:\n",
    "        return f\"{ln} ✗ ({ln_diff:+3})\"\n",
    "\n",
    "    return f\"{ln:<11}\"\n",
    "\n",
    "for i, year in enumerate(reversed(range(403, 463))):\n",
    "    fest = ha.festival_calendar(ha.bce_as_negative(year))\n",
    "    if year in (452, 442, 432, 422, 412):\n",
    "        print(\"-\"*60)\n",
    "    print(f\"{year}/{year-1} | {fmt_i(len(fest), i)} | \"\n",
    "         f\"{fmt_m(fest[0], year)} | {fmt_len(fest, i)}\")"
   ]
  },
  {
   "cell_type": "markdown",
   "metadata": {},
   "source": [
    "The agreement is very good, which is to be expected as both are using similar ephemeris calculations made by the Jet Propulsion Laboratory. Over the 60-year span there is only one disagreement about intercalation (97% agreement). This lack of agreement involves a new moon very close to the summer solstice and is better taken as a single-day disagreement about the date of Hekatombaiṓn 1, but one which causes one year to be taken as intercalary rather than another.\n",
    "\n",
    "Note, however, that this excellent agreement is _not_ an indicator of historical accuracy. It is simply because both are making similar calculations based on similarly precise astronomical data.\n",
    "\n",
    "There is 77% agreement about the dates of Hekatombaiṓn 1, and 73% agreement about the lengths of year. Over the 60-span there is only 1 day's difference in the total length of years.\n",
    "\n",
    "Since we do not know how the Athenians made their observations of the visible moon, the single day difference are within an expected level of uncertainty. Planeaux makes very lengthy and complex calculations and arguments for why he believes that Athenians chose certain astronomical phenomena by which to regulate their calendar. The slight disagreement overall is not bad, given that `heniautos` uses _much, much_ simpler calculations. "
   ]
  },
  {
   "cell_type": "markdown",
   "metadata": {},
   "source": [
    "## Works Cited\n",
    "\n",
    "* Planeaux, Christopher. Forthcoming. _Athenian Year Primer_."
   ]
  }
 ],
 "metadata": {
  "kernelspec": {
   "display_name": "heniautos",
   "language": "python",
   "name": "heniautos"
  },
  "language_info": {
   "codemirror_mode": {
    "name": "ipython",
    "version": 3
   },
   "file_extension": ".py",
   "mimetype": "text/x-python",
   "name": "python",
   "nbconvert_exporter": "python",
   "pygments_lexer": "ipython3",
   "version": "3.9.2"
  }
 },
 "nbformat": 4,
 "nbformat_minor": 4
}
